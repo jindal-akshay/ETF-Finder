{
 "cells": [
  {
   "cell_type": "markdown",
   "metadata": {},
   "source": [
    "## Import libraries"
   ]
  },
  {
   "cell_type": "code",
   "execution_count": 1,
   "metadata": {},
   "outputs": [],
   "source": [
    "# 1) Get URL\n",
    "# 2) Parse through Table\n",
    "# 3) Json/dataframe output of table\n",
    "# 4) create testing scenario "
   ]
  },
  {
   "cell_type": "code",
   "execution_count": 2,
   "metadata": {},
   "outputs": [],
   "source": [
    "#THINGS TO DO\n",
    "\n",
    "# HOW THE FUCK DO WE GET MULTIPLE USER INPUT \n",
    "# - create 10 empty url searches? (That can be the cap)\n",
    "# - Store 10 empty etf dollar amounts"
   ]
  },
  {
   "cell_type": "code",
   "execution_count": 3,
   "metadata": {},
   "outputs": [],
   "source": [
    "import numpy as np\n",
    "import pandas as pd\n",
    "import requests\n",
    "from bs4 import BeautifulSoup as bs\n",
    "from pathlib import Path\n"
   ]
  },
  {
   "cell_type": "code",
   "execution_count": 4,
   "metadata": {},
   "outputs": [
    {
     "name": "stdin",
     "output_type": "stream",
     "text": [
      "Input your ETF of Interest:  QQQ\n",
      "Input your stocks that youre is's of Interest:  AAPL\n",
      "how much money did you invest in this etf:  150\n"
     ]
    }
   ],
   "source": [
    "# Define a calculate_market_cap function, and then call it\n",
    "def user_stock_choice(stock_of_interest):\n",
    "    \n",
    "    \n",
    "    \n",
    "    return stocks\n",
    "\n",
    "\n",
    "def etf_values(etf_amount):\n",
    "    \n",
    "    etf_amount = []\n",
    "    \n",
    "    \n",
    "    return etf_dollar\n",
    "\n",
    "def etf_selection(etfs):\n",
    "    etfs = []\n",
    "\n",
    "etfs = str( input(\"Input your ETF of Interest: \") )\n",
    "stocks_of_interest = str( input(\"Input your stocks that youre is's of Interest: \") )\n",
    "etf_amount = int( input(\"how much money did you invest in this etf: \") )\n",
    "\n",
    "etf_selection(etfs)\n",
    "\n",
    "\n",
    "\n",
    "def calc_output(etfs,stock_of_interest,result_am):\n",
    "   \n",
    "    results_am = etfs * etfs_value\n",
    "    \n",
    "\n",
    "    return calc\n",
    "\n",
    "\n",
    "\n"
   ]
  },
  {
   "cell_type": "code",
   "execution_count": 5,
   "metadata": {},
   "outputs": [],
   "source": [
    "# string_url = 'https://etfdb.com/etf/{etfs}/#holdings'\n",
    "\n",
    "base_url = 'https://etfdb.com/etf'\n",
    "function = '#holdings'\n",
    "etf_selec = etfs\n",
    "\n",
    "response = requests.get(f'{base_url}/{etf_selec}/{function}') .text"
   ]
  },
  {
   "cell_type": "code",
   "execution_count": 6,
   "metadata": {},
   "outputs": [],
   "source": [
    "#request the URL \n",
    "\n",
    "# r = requests.get(string_url).text\n",
    "soup = bs(response, 'lxml')\n",
    "# print(soup.prettify())\n",
    "# article = soup.find('table')"
   ]
  },
  {
   "cell_type": "code",
   "execution_count": 7,
   "metadata": {},
   "outputs": [
    {
     "data": {
      "text/plain": [
       "'AAPL'"
      ]
     },
     "execution_count": 7,
     "metadata": {},
     "output_type": "execute_result"
    }
   ],
   "source": [
    "stocks_of_interest"
   ]
  },
  {
   "cell_type": "code",
   "execution_count": 8,
   "metadata": {},
   "outputs": [],
   "source": [
    "# parse stock selection\n",
    "\n",
    "\n",
    "base = 'https://finance.yahoo.com/quote/'\n",
    "\n",
    "\n",
    "\n",
    "response_stock = requests.get(f'{base}{stocks_of_interest}?p={stocks_of_interest}&.tsrc=fin-srch%27') .text\n",
    "\n",
    "soup_stock = bs(response_stock,\"html.parser\")"
   ]
  },
  {
   "cell_type": "code",
   "execution_count": 9,
   "metadata": {},
   "outputs": [],
   "source": [
    "l={}\n",
    "u=list()"
   ]
  },
  {
   "cell_type": "code",
   "execution_count": 10,
   "metadata": {},
   "outputs": [],
   "source": [
    "alldata = soup_stock.find_all('tbody')"
   ]
  },
  {
   "cell_type": "code",
   "execution_count": 11,
   "metadata": {},
   "outputs": [],
   "source": [
    "try:\n",
    " table1 = alldata[0].find_all(\"tr\")\n",
    "except:\n",
    " table1=None\n",
    "try:\n",
    " table2 = alldata[1].find_all(\"tr\")\n",
    "except:\n",
    " table2 = None"
   ]
  },
  {
   "cell_type": "code",
   "execution_count": 12,
   "metadata": {},
   "outputs": [],
   "source": [
    "for i in range(0,len(table1)):\n",
    " try:\n",
    "   table1_td = table1[i].find_all(\"td\")\n",
    " except:\n",
    "   table1_td = None\n",
    " l[table1_td[0].text] = table1_td[1].text\n",
    " u.append(l)\n",
    " l={}"
   ]
  },
  {
   "cell_type": "code",
   "execution_count": 13,
   "metadata": {},
   "outputs": [],
   "source": [
    "for i in range(0,len(table2)):\n",
    " try:\n",
    "   table2_td = table2[i].find_all('td')\n",
    " except:\n",
    "   table2_td = None\n",
    " l[table2_td[0].text] = table2_td[1].text\n",
    " u.append(l)\n",
    " l={}"
   ]
  },
  {
   "cell_type": "code",
   "execution_count": 14,
   "metadata": {},
   "outputs": [],
   "source": [
    "prev_close = pd.DataFrame(u[:1])"
   ]
  },
  {
   "cell_type": "markdown",
   "metadata": {},
   "source": [
    "## Print out table of search"
   ]
  },
  {
   "cell_type": "code",
   "execution_count": 15,
   "metadata": {},
   "outputs": [
    {
     "name": "stdout",
     "output_type": "stream",
     "text": [
      "Open, -, Volume, -\n",
      "Day Lo, -, Day Hi, -\n",
      "\n",
      "Cheapest\n",
      ", BKLC, 0.00%, \n",
      "$80.0 M\n",
      ", \n",
      "12,784\n",
      ", \n",
      "\n",
      "Largest (AUM)\n",
      ", SPY, 0.09%, \n",
      "$300.3 B\n",
      ", \n",
      "71 M\n",
      ", 3.79%\n",
      "\n",
      "Most Liquid (Volume)\n",
      ", SPY, 0.09%, \n",
      "$300.3 B\n",
      ", \n",
      "71 M\n",
      ", 3.79%\n",
      "\n",
      "Top YTD Performer\n",
      ", ARKW, 0.76%, \n",
      "$2.3 B\n",
      ", \n",
      "744,814\n",
      ", 79.09%\n",
      "AAPL, Apple Inc, 13.33%\n",
      "MSFT, Microsoft Corp, 10.72%\n",
      "AMZN, Amazon.com Inc, 10.46%\n",
      "FB, Facebook Inc, 4.27%\n",
      "GOOGL, Alphabet Inc, 3.56%\n",
      "GOOG, Alphabet Inc, 3.51%\n",
      "TSLA, Tesla Inc, 3.49%\n",
      "NVDA, NVIDIA Corp, 2.73%\n",
      "ADBE, Adobe Inc, 2.03%\n",
      "INTC, Intel Corp, 1.89%\n",
      "CMCSA, Comcast Corp, 1.84%\n",
      "NFLX, Netflix Inc, 1.84%\n",
      "PYPL, PayPal Holdings Inc, 1.83%\n",
      "PEP, PepsiCo Inc, 1.64%\n",
      "CSCO, Cisco Systems Inc, 1.51%\n",
      "Common equity, 99.85%\n",
      "ETF Cash Component, 0.15%\n",
      "Technology, 45.45%\n",
      "Communications, 19.34%\n",
      "Consumer, Cyclical, 17.86%\n",
      "Healthcare, 6.45%\n",
      "Consumer, Non-Cyclical, 4.7%\n",
      "Other, 3.6%\n",
      "Industrials, 1.81%\n",
      "Utilities, 0.63%\n",
      "ETF Cash Component, 0.15%\n",
      "Large cap, 98.04%\n",
      "Mid cap, 1.77%\n",
      "ETF Cash Component, 0.15%\n",
      "Small cap, 0.04%\n",
      "North America, 95.79%\n",
      "Europe, 1.91%\n",
      "Asia, 1.56%\n",
      "Latin America, 0.44%\n",
      "Middle East, 0.15%\n",
      "ETF Cash Component, 0.15%\n",
      "United States, 95.79%\n",
      "Developed Markets (ex-US), 2.06%\n",
      "Emerging Markets, 2.0%\n",
      "ETF Cash Component, 0.15%\n",
      "United States, 95.79%\n",
      "China, 1.56%\n",
      "Germany, 1.23%\n",
      "Netherlands, 0.57%\n",
      "Argentina, 0.44%\n",
      "Israel, 0.15%\n",
      "ETF Cash Component, 0.15%\n",
      "United Kingdom, 0.11%\n",
      "Common equity, 99.85%\n",
      "ETF Cash Component, 0.15%\n"
     ]
    }
   ],
   "source": [
    "data=[]\n",
    "for row in soup.select('tbody tr'):\n",
    "    row_text = [x.text for x in row.find_all('td')]\n",
    "    data.append((row_text))\n",
    "    print(', '.join(row_text))"
   ]
  },
  {
   "cell_type": "code",
   "execution_count": 16,
   "metadata": {},
   "outputs": [
    {
     "data": {
      "text/plain": [
       "[['AAPL', 'Apple Inc', '13.33%'],\n",
       " ['MSFT', 'Microsoft Corp', '10.72%'],\n",
       " ['AMZN', 'Amazon.com Inc', '10.46%'],\n",
       " ['FB', 'Facebook Inc', '4.27%'],\n",
       " ['GOOGL', 'Alphabet Inc', '3.56%'],\n",
       " ['GOOG', 'Alphabet Inc', '3.51%'],\n",
       " ['TSLA', 'Tesla Inc', '3.49%'],\n",
       " ['NVDA', 'NVIDIA Corp', '2.73%'],\n",
       " ['ADBE', 'Adobe Inc', '2.03%'],\n",
       " ['INTC', 'Intel Corp', '1.89%'],\n",
       " ['CMCSA', 'Comcast Corp', '1.84%'],\n",
       " ['NFLX', 'Netflix Inc', '1.84%'],\n",
       " ['PYPL', 'PayPal Holdings Inc', '1.83%'],\n",
       " ['PEP', 'PepsiCo Inc', '1.64%'],\n",
       " ['CSCO', 'Cisco Systems Inc', '1.51%']]"
      ]
     },
     "execution_count": 16,
     "metadata": {},
     "output_type": "execute_result"
    }
   ],
   "source": [
    "#SELECT ONLY STOCK INFO FROM 'DATA' LIST\n",
    "#TODO: ITERATE THROUGH KEYS RATHER THAN STATIC POSITIONS\n",
    "data[6:21]"
   ]
  },
  {
   "cell_type": "code",
   "execution_count": 17,
   "metadata": {},
   "outputs": [],
   "source": [
    "stock_list = data[6:21]"
   ]
  },
  {
   "cell_type": "code",
   "execution_count": 18,
   "metadata": {},
   "outputs": [],
   "source": [
    "stock_df = pd.DataFrame(stock_list)"
   ]
  },
  {
   "cell_type": "code",
   "execution_count": 19,
   "metadata": {},
   "outputs": [
    {
     "data": {
      "text/html": [
       "<div>\n",
       "<style scoped>\n",
       "    .dataframe tbody tr th:only-of-type {\n",
       "        vertical-align: middle;\n",
       "    }\n",
       "\n",
       "    .dataframe tbody tr th {\n",
       "        vertical-align: top;\n",
       "    }\n",
       "\n",
       "    .dataframe thead th {\n",
       "        text-align: right;\n",
       "    }\n",
       "</style>\n",
       "<table border=\"1\" class=\"dataframe\">\n",
       "  <thead>\n",
       "    <tr style=\"text-align: right;\">\n",
       "      <th></th>\n",
       "      <th>0</th>\n",
       "      <th>1</th>\n",
       "      <th>2</th>\n",
       "    </tr>\n",
       "  </thead>\n",
       "  <tbody>\n",
       "    <tr>\n",
       "      <th>0</th>\n",
       "      <td>AAPL</td>\n",
       "      <td>Apple Inc</td>\n",
       "      <td>13.33%</td>\n",
       "    </tr>\n",
       "    <tr>\n",
       "      <th>1</th>\n",
       "      <td>MSFT</td>\n",
       "      <td>Microsoft Corp</td>\n",
       "      <td>10.72%</td>\n",
       "    </tr>\n",
       "    <tr>\n",
       "      <th>2</th>\n",
       "      <td>AMZN</td>\n",
       "      <td>Amazon.com Inc</td>\n",
       "      <td>10.46%</td>\n",
       "    </tr>\n",
       "    <tr>\n",
       "      <th>3</th>\n",
       "      <td>FB</td>\n",
       "      <td>Facebook Inc</td>\n",
       "      <td>4.27%</td>\n",
       "    </tr>\n",
       "    <tr>\n",
       "      <th>4</th>\n",
       "      <td>GOOGL</td>\n",
       "      <td>Alphabet Inc</td>\n",
       "      <td>3.56%</td>\n",
       "    </tr>\n",
       "  </tbody>\n",
       "</table>\n",
       "</div>"
      ],
      "text/plain": [
       "       0               1       2\n",
       "0   AAPL       Apple Inc  13.33%\n",
       "1   MSFT  Microsoft Corp  10.72%\n",
       "2   AMZN  Amazon.com Inc  10.46%\n",
       "3     FB    Facebook Inc   4.27%\n",
       "4  GOOGL    Alphabet Inc   3.56%"
      ]
     },
     "execution_count": 19,
     "metadata": {},
     "output_type": "execute_result"
    }
   ],
   "source": [
    "stock_df.head()"
   ]
  },
  {
   "cell_type": "code",
   "execution_count": 20,
   "metadata": {},
   "outputs": [
    {
     "data": {
      "text/html": [
       "<div>\n",
       "<style scoped>\n",
       "    .dataframe tbody tr th:only-of-type {\n",
       "        vertical-align: middle;\n",
       "    }\n",
       "\n",
       "    .dataframe tbody tr th {\n",
       "        vertical-align: top;\n",
       "    }\n",
       "\n",
       "    .dataframe thead th {\n",
       "        text-align: right;\n",
       "    }\n",
       "</style>\n",
       "<table border=\"1\" class=\"dataframe\">\n",
       "  <thead>\n",
       "    <tr style=\"text-align: right;\">\n",
       "      <th></th>\n",
       "      <th>Ticker</th>\n",
       "      <th>Name</th>\n",
       "      <th>Allocation</th>\n",
       "    </tr>\n",
       "  </thead>\n",
       "  <tbody>\n",
       "    <tr>\n",
       "      <th>0</th>\n",
       "      <td>AAPL</td>\n",
       "      <td>Apple Inc</td>\n",
       "      <td>13.33%</td>\n",
       "    </tr>\n",
       "    <tr>\n",
       "      <th>1</th>\n",
       "      <td>MSFT</td>\n",
       "      <td>Microsoft Corp</td>\n",
       "      <td>10.72%</td>\n",
       "    </tr>\n",
       "    <tr>\n",
       "      <th>2</th>\n",
       "      <td>AMZN</td>\n",
       "      <td>Amazon.com Inc</td>\n",
       "      <td>10.46%</td>\n",
       "    </tr>\n",
       "    <tr>\n",
       "      <th>3</th>\n",
       "      <td>FB</td>\n",
       "      <td>Facebook Inc</td>\n",
       "      <td>4.27%</td>\n",
       "    </tr>\n",
       "    <tr>\n",
       "      <th>4</th>\n",
       "      <td>GOOGL</td>\n",
       "      <td>Alphabet Inc</td>\n",
       "      <td>3.56%</td>\n",
       "    </tr>\n",
       "  </tbody>\n",
       "</table>\n",
       "</div>"
      ],
      "text/plain": [
       "  Ticker            Name Allocation\n",
       "0   AAPL       Apple Inc     13.33%\n",
       "1   MSFT  Microsoft Corp     10.72%\n",
       "2   AMZN  Amazon.com Inc     10.46%\n",
       "3     FB    Facebook Inc      4.27%\n",
       "4  GOOGL    Alphabet Inc      3.56%"
      ]
     },
     "execution_count": 20,
     "metadata": {},
     "output_type": "execute_result"
    }
   ],
   "source": [
    " # Rewrite the column names\n",
    "columns = [\"Ticker\", \"Name\",\"Allocation\"]\n",
    "stock_df.columns = columns\n",
    "stock_df.head() "
   ]
  },
  {
   "cell_type": "code",
   "execution_count": 21,
   "metadata": {},
   "outputs": [],
   "source": [
    "stock_df['Allocation'] = list(map(lambda x: x[:-1], stock_df['Allocation'].values))\n",
    "\n",
    "stock_df.Allocation = stock_df.Allocation.astype(float)\n",
    "\n",
    "stock_df['Allocation'] = stock_df['Allocation'].div(100)"
   ]
  },
  {
   "cell_type": "code",
   "execution_count": 22,
   "metadata": {},
   "outputs": [
    {
     "data": {
      "text/html": [
       "<div>\n",
       "<style scoped>\n",
       "    .dataframe tbody tr th:only-of-type {\n",
       "        vertical-align: middle;\n",
       "    }\n",
       "\n",
       "    .dataframe tbody tr th {\n",
       "        vertical-align: top;\n",
       "    }\n",
       "\n",
       "    .dataframe thead th {\n",
       "        text-align: right;\n",
       "    }\n",
       "</style>\n",
       "<table border=\"1\" class=\"dataframe\">\n",
       "  <thead>\n",
       "    <tr style=\"text-align: right;\">\n",
       "      <th></th>\n",
       "      <th>Ticker</th>\n",
       "      <th>Name</th>\n",
       "      <th>Allocation</th>\n",
       "    </tr>\n",
       "  </thead>\n",
       "  <tbody>\n",
       "    <tr>\n",
       "      <th>0</th>\n",
       "      <td>AAPL</td>\n",
       "      <td>Apple Inc</td>\n",
       "      <td>0.1333</td>\n",
       "    </tr>\n",
       "    <tr>\n",
       "      <th>1</th>\n",
       "      <td>MSFT</td>\n",
       "      <td>Microsoft Corp</td>\n",
       "      <td>0.1072</td>\n",
       "    </tr>\n",
       "    <tr>\n",
       "      <th>2</th>\n",
       "      <td>AMZN</td>\n",
       "      <td>Amazon.com Inc</td>\n",
       "      <td>0.1046</td>\n",
       "    </tr>\n",
       "    <tr>\n",
       "      <th>3</th>\n",
       "      <td>FB</td>\n",
       "      <td>Facebook Inc</td>\n",
       "      <td>0.0427</td>\n",
       "    </tr>\n",
       "    <tr>\n",
       "      <th>4</th>\n",
       "      <td>GOOGL</td>\n",
       "      <td>Alphabet Inc</td>\n",
       "      <td>0.0356</td>\n",
       "    </tr>\n",
       "  </tbody>\n",
       "</table>\n",
       "</div>"
      ],
      "text/plain": [
       "  Ticker            Name  Allocation\n",
       "0   AAPL       Apple Inc      0.1333\n",
       "1   MSFT  Microsoft Corp      0.1072\n",
       "2   AMZN  Amazon.com Inc      0.1046\n",
       "3     FB    Facebook Inc      0.0427\n",
       "4  GOOGL    Alphabet Inc      0.0356"
      ]
     },
     "execution_count": 22,
     "metadata": {},
     "output_type": "execute_result"
    }
   ],
   "source": [
    "stock_df.head()"
   ]
  },
  {
   "cell_type": "code",
   "execution_count": 23,
   "metadata": {},
   "outputs": [],
   "source": [
    "#Create functions for etf calculation\n",
    "\n",
    "# 1) what stock is user interest\n",
    "# 2) dollar value of each ETF\n",
    "# 3) stock allocation per dollar ratio\n",
    "# 4) output stock\n",
    "\n",
    "#todo create function that holds all users etf choices"
   ]
  },
  {
   "cell_type": "code",
   "execution_count": 24,
   "metadata": {},
   "outputs": [],
   "source": [
    "stock_df['dollar'] = stock_df.Allocation * etf_amount\n"
   ]
  },
  {
   "cell_type": "code",
   "execution_count": 25,
   "metadata": {},
   "outputs": [
    {
     "data": {
      "text/html": [
       "<div>\n",
       "<style scoped>\n",
       "    .dataframe tbody tr th:only-of-type {\n",
       "        vertical-align: middle;\n",
       "    }\n",
       "\n",
       "    .dataframe tbody tr th {\n",
       "        vertical-align: top;\n",
       "    }\n",
       "\n",
       "    .dataframe thead th {\n",
       "        text-align: right;\n",
       "    }\n",
       "</style>\n",
       "<table border=\"1\" class=\"dataframe\">\n",
       "  <thead>\n",
       "    <tr style=\"text-align: right;\">\n",
       "      <th></th>\n",
       "      <th>Ticker</th>\n",
       "      <th>Name</th>\n",
       "      <th>Allocation</th>\n",
       "      <th>dollar</th>\n",
       "    </tr>\n",
       "  </thead>\n",
       "  <tbody>\n",
       "    <tr>\n",
       "      <th>0</th>\n",
       "      <td>AAPL</td>\n",
       "      <td>Apple Inc</td>\n",
       "      <td>0.1333</td>\n",
       "      <td>19.995</td>\n",
       "    </tr>\n",
       "    <tr>\n",
       "      <th>1</th>\n",
       "      <td>MSFT</td>\n",
       "      <td>Microsoft Corp</td>\n",
       "      <td>0.1072</td>\n",
       "      <td>16.080</td>\n",
       "    </tr>\n",
       "    <tr>\n",
       "      <th>2</th>\n",
       "      <td>AMZN</td>\n",
       "      <td>Amazon.com Inc</td>\n",
       "      <td>0.1046</td>\n",
       "      <td>15.690</td>\n",
       "    </tr>\n",
       "    <tr>\n",
       "      <th>3</th>\n",
       "      <td>FB</td>\n",
       "      <td>Facebook Inc</td>\n",
       "      <td>0.0427</td>\n",
       "      <td>6.405</td>\n",
       "    </tr>\n",
       "    <tr>\n",
       "      <th>4</th>\n",
       "      <td>GOOGL</td>\n",
       "      <td>Alphabet Inc</td>\n",
       "      <td>0.0356</td>\n",
       "      <td>5.340</td>\n",
       "    </tr>\n",
       "  </tbody>\n",
       "</table>\n",
       "</div>"
      ],
      "text/plain": [
       "  Ticker            Name  Allocation  dollar\n",
       "0   AAPL       Apple Inc      0.1333  19.995\n",
       "1   MSFT  Microsoft Corp      0.1072  16.080\n",
       "2   AMZN  Amazon.com Inc      0.1046  15.690\n",
       "3     FB    Facebook Inc      0.0427   6.405\n",
       "4  GOOGL    Alphabet Inc      0.0356   5.340"
      ]
     },
     "execution_count": 25,
     "metadata": {},
     "output_type": "execute_result"
    }
   ],
   "source": [
    "stock_df.head()"
   ]
  },
  {
   "cell_type": "code",
   "execution_count": 26,
   "metadata": {},
   "outputs": [
    {
     "data": {
      "text/html": [
       "<div>\n",
       "<style scoped>\n",
       "    .dataframe tbody tr th:only-of-type {\n",
       "        vertical-align: middle;\n",
       "    }\n",
       "\n",
       "    .dataframe tbody tr th {\n",
       "        vertical-align: top;\n",
       "    }\n",
       "\n",
       "    .dataframe thead th {\n",
       "        text-align: right;\n",
       "    }\n",
       "</style>\n",
       "<table border=\"1\" class=\"dataframe\">\n",
       "  <thead>\n",
       "    <tr style=\"text-align: right;\">\n",
       "      <th></th>\n",
       "      <th>Ticker</th>\n",
       "      <th>Name</th>\n",
       "      <th>Allocation</th>\n",
       "      <th>dollar</th>\n",
       "    </tr>\n",
       "  </thead>\n",
       "  <tbody>\n",
       "    <tr>\n",
       "      <th>0</th>\n",
       "      <td>AAPL</td>\n",
       "      <td>Apple Inc</td>\n",
       "      <td>0.1333</td>\n",
       "      <td>19.995</td>\n",
       "    </tr>\n",
       "  </tbody>\n",
       "</table>\n",
       "</div>"
      ],
      "text/plain": [
       "  Ticker       Name  Allocation  dollar\n",
       "0   AAPL  Apple Inc      0.1333  19.995"
      ]
     },
     "execution_count": 26,
     "metadata": {},
     "output_type": "execute_result"
    }
   ],
   "source": [
    "search_stock = stock_df.loc[stock_df['Ticker'] == stocks_of_interest]\n",
    "search_stock"
   ]
  },
  {
   "cell_type": "code",
   "execution_count": 27,
   "metadata": {},
   "outputs": [
    {
     "data": {
      "text/plain": [
       "0    110.34\n",
       "Name: Previous Close, dtype: float64"
      ]
     },
     "execution_count": 27,
     "metadata": {},
     "output_type": "execute_result"
    }
   ],
   "source": [
    "stock_search_price = prev_close['Previous Close'].astype(float)\n",
    "\n",
    "stock_search_price"
   ]
  },
  {
   "cell_type": "code",
   "execution_count": 28,
   "metadata": {},
   "outputs": [],
   "source": [
    "etf_stock_price = search_stock['dollar']"
   ]
  },
  {
   "cell_type": "code",
   "execution_count": 29,
   "metadata": {},
   "outputs": [],
   "source": [
    "user_stock = etf_stock_price / stock_search_price"
   ]
  },
  {
   "cell_type": "code",
   "execution_count": 30,
   "metadata": {},
   "outputs": [
    {
     "data": {
      "text/plain": [
       "0    0.181213\n",
       "dtype: float64"
      ]
     },
     "execution_count": 30,
     "metadata": {},
     "output_type": "execute_result"
    }
   ],
   "source": [
    "user_stock"
   ]
  },
  {
   "cell_type": "code",
   "execution_count": null,
   "metadata": {},
   "outputs": [],
   "source": []
  }
 ],
 "metadata": {
  "kernelspec": {
   "display_name": "Python 3",
   "language": "python",
   "name": "python3"
  },
  "language_info": {
   "codemirror_mode": {
    "name": "ipython",
    "version": 3
   },
   "file_extension": ".py",
   "mimetype": "text/x-python",
   "name": "python",
   "nbconvert_exporter": "python",
   "pygments_lexer": "ipython3",
   "version": "3.8.3"
  }
 },
 "nbformat": 4,
 "nbformat_minor": 4
}
