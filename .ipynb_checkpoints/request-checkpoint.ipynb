{
 "cells": [
  {
   "cell_type": "markdown",
   "metadata": {},
   "source": [
    "## Import libraries"
   ]
  },
  {
   "cell_type": "code",
   "execution_count": 1,
   "metadata": {},
   "outputs": [],
   "source": [
    "#Import Libraries\n",
    "import numpy as np\n",
    "import pandas as pd\n",
    "import requests\n",
    "from bs4 import BeautifulSoup as bs\n",
    "from pathlib import Path\n"
   ]
  },
  {
   "cell_type": "markdown",
   "metadata": {},
   "source": [
    "# Define Functions"
   ]
  },
  {
   "cell_type": "code",
   "execution_count": 2,
   "metadata": {},
   "outputs": [
    {
     "name": "stdin",
     "output_type": "stream",
     "text": [
      "Input Stock of Interest:  FB\n"
     ]
    }
   ],
   "source": [
    "# Function for user stock of choice\n",
    "def user_stock_choice(stock_of_interest):  \n",
    "    return stocks\n",
    "\n",
    "# Function for etf dollar amount\n",
    "def etf_values(etf_amount):\n",
    "    \n",
    "    etf_amount = []\n",
    "        \n",
    "    return etf_dollar\n",
    "\n",
    "# Function for the ETF of choice\n",
    "\n",
    "def etf_selection(etfs):\n",
    "    etfs = []\n",
    "\n",
    "\n",
    "stocks_of_interest = str( input(\"Input Stock of Interest: \") )\n",
    "\n",
    "\n",
    "\n",
    "\n",
    "\n"
   ]
  },
  {
   "cell_type": "code",
   "execution_count": 5,
   "metadata": {},
   "outputs": [
    {
     "name": "stdin",
     "output_type": "stream",
     "text": [
      "Enter the ETFS of interest:  SPY QQQ FTEC XSW RYT\n"
     ]
    },
    {
     "name": "stdout",
     "output_type": "stream",
     "text": [
      "The ETFS you selected are:  ['SPY', 'QQQ', 'FTEC', 'XSW', 'RYT']\n"
     ]
    }
   ],
   "source": [
    "# taking multiple inputs at a time  \n",
    "etf1 = [str(etf1) for etf1 in input(\"Enter the ETFS of interest: \").split()] \n",
    "print(\"The ETFS you selected are: \", etf1) "
   ]
  },
  {
   "cell_type": "code",
   "execution_count": 3,
   "metadata": {},
   "outputs": [
    {
     "name": "stdin",
     "output_type": "stream",
     "text": [
      "Enter the dollar amount for each ETF :  1000 1000 1000 1000 1000\n"
     ]
    },
    {
     "name": "stdout",
     "output_type": "stream",
     "text": [
      "The dollar amounts for each ETF :  ['1000', '1000', '1000', '1000', '1000']\n"
     ]
    }
   ],
   "source": [
    "# taking multiple inputs at a time  \n",
    "etf_sut = [str(etf_sut) for etf_sut in input(\"Enter the dollar amount for each ETF : \").split()] \n",
    "print(\"The dollar amounts for each ETF : \", etf_sut) "
   ]
  },
  {
   "cell_type": "code",
   "execution_count": 4,
   "metadata": {},
   "outputs": [],
   "source": [
    "#convert to str to int\n",
    "etf_sut = [int(i) for i in etf_sut]"
   ]
  },
  {
   "cell_type": "code",
   "execution_count": 7,
   "metadata": {},
   "outputs": [],
   "source": [
    "  \n",
    "base_url = 'https://etfdb.com/etf'\n",
    "function = '#holdings'\n",
    "# etf_selec = etfs"
   ]
  },
  {
   "cell_type": "code",
   "execution_count": 8,
   "metadata": {},
   "outputs": [],
   "source": [
    "batch_size = len(etf1)\n",
    "urllist = [f'{base_url}/{etf1[0]}/{function}', f'{base_url}/{etf1[1]}/{function}', f'{base_url}/{etf1[2]}/{function}', f'{base_url}/{etf1[3]}/{function}', f'{base_url}/{etf1[4]}/{function}']\n",
    "url_chunks = [urllist[x:x+batch_size] for x in range(0, len(urllist), batch_size)]\n"
   ]
  },
  {
   "cell_type": "code",
   "execution_count": 9,
   "metadata": {},
   "outputs": [
    {
     "name": "stdout",
     "output_type": "stream",
     "text": [
      "['https://etfdb.com/etf/SPY/#holdings', 'https://etfdb.com/etf/QQQ/#holdings', 'https://etfdb.com/etf/FTEC/#holdings', 'https://etfdb.com/etf/XSW/#holdings', 'https://etfdb.com/etf/RYT/#holdings']\n"
     ]
    }
   ],
   "source": [
    "print((urllist))"
   ]
  },
  {
   "cell_type": "markdown",
   "metadata": {},
   "source": [
    "# Scrape for Data"
   ]
  },
  {
   "cell_type": "code",
   "execution_count": 10,
   "metadata": {},
   "outputs": [],
   "source": [
    "# Access The ETFDB website \n",
    "\n",
    "# # TODO: Have multiple ETF Selections\n",
    "\n",
    "response1 = requests.get(urllist[0]) .text\n",
    "response2 = requests.get(urllist[1]) .text\n",
    "response3 = requests.get(urllist[2]) .text\n",
    "response4 = requests.get(urllist[3]) .text\n",
    "response5 = requests.get(urllist[4]) .text\n",
    "\n",
    "soup1 = bs(response1, 'lxml')\n",
    "soup2 = bs(response2, 'lxml')\n",
    "soup3 = bs(response3, 'lxml')\n",
    "soup4 = bs(response4, 'lxml')\n",
    "soup5 = bs(response5, 'lxml')\n"
   ]
  },
  {
   "cell_type": "code",
   "execution_count": 11,
   "metadata": {},
   "outputs": [],
   "source": [
    "# Access the Yahoo Finance website\n",
    "\n",
    "base = 'https://finance.yahoo.com/quote/'\n",
    "\n",
    "response_stock = requests.get(f'{base}{stocks_of_interest}?p={stocks_of_interest}&.tsrc=fin-srch%27') .text\n",
    "\n",
    "soup_stock = bs(response_stock,\"html.parser\")"
   ]
  },
  {
   "cell_type": "code",
   "execution_count": 12,
   "metadata": {},
   "outputs": [],
   "source": [
    "#Establish frame of searches\n",
    "#Lists to store \n",
    "# Part of page\n",
    "l={}\n",
    "u=list()\n",
    "alldata = soup_stock.find_all('tbody')\n",
    "\n"
   ]
  },
  {
   "cell_type": "markdown",
   "metadata": {},
   "source": [
    "alldataint out table of search"
   ]
  },
  {
   "cell_type": "code",
   "execution_count": 13,
   "metadata": {},
   "outputs": [],
   "source": [
    "\n",
    "try:\n",
    " table1 = alldata[0].find_all(\"tr\")\n",
    "except:\n",
    " table1=None\n",
    "try:\n",
    " table2 = alldata[1].find_all(\"tr\")\n",
    "except:\n",
    " table2 = None"
   ]
  },
  {
   "cell_type": "code",
   "execution_count": 14,
   "metadata": {},
   "outputs": [],
   "source": [
    "for i in range(0,len(table1)):\n",
    " try:\n",
    "   table1_td = table1[i].find_all(\"td\")\n",
    " except:\n",
    "   table1_td = None\n",
    " l[table1_td[0].text] = table1_td[1].text\n",
    " u.append(l)\n",
    " l={}"
   ]
  },
  {
   "cell_type": "code",
   "execution_count": 15,
   "metadata": {},
   "outputs": [],
   "source": [
    "for i in range(0,len(table2)):\n",
    " try:\n",
    "   table2_td = table2[i].find_all('td')\n",
    " except:\n",
    "   table2_td = None\n",
    " l[table2_td[0].text] = table2_td[1].text\n",
    " u.append(l)\n",
    " l={}"
   ]
  },
  {
   "cell_type": "code",
   "execution_count": 16,
   "metadata": {},
   "outputs": [],
   "source": [
    "#pull the previous close from list\n",
    "prev_close = pd.DataFrame(u[:1])"
   ]
  },
  {
   "cell_type": "code",
   "execution_count": 17,
   "metadata": {},
   "outputs": [
    {
     "name": "stdout",
     "output_type": "stream",
     "text": [
      "Open, -, Volume, -\n",
      "Day Lo, -, Day Hi, -\n",
      "\n",
      "Cheapest\n",
      ", BKLC, 0.00%, \n",
      "$95.3 M\n",
      ", \n",
      "15,545\n",
      ", \n",
      "\n",
      "Largest (AUM)\n",
      ", IVV, 0.04%, \n",
      "$222.2 B\n",
      ", \n",
      "3 M\n",
      ", 6.59%\n",
      "\n",
      "Most Liquid (Volume)\n",
      ", QQQ, 0.20%, \n",
      "$138.5 B\n",
      ", \n",
      "45 M\n",
      ", 33.66%\n",
      "\n",
      "Top YTD Performer\n",
      ", ARKW, 0.76%, \n",
      "$3.0 B\n",
      ", \n",
      "719,929\n",
      ", 105.23%\n",
      "AAPL, Apple Inc, 6.63%\n",
      "MSFT, Microsoft Corp, 5.67%\n",
      "AMZN, Amazon.com Inc, 4.84%\n",
      "FB, Facebook Inc, 2.28%\n",
      "GOOGL, Alphabet Inc, 1.60%\n",
      "GOOG, Alphabet Inc, 1.56%\n",
      "BRK.B, Berkshire Hathaway Inc, 1.51%\n",
      "JNJ, Johnson & Johnson, 1.40%\n",
      "PG, Procter & Gamble Co, 1.24%\n",
      "V, Visa Inc, 1.22%\n",
      "NVDA, NVIDIA Corp, 1.18%\n",
      "MA, Mastercard Inc, 1.07%\n",
      "HD, Home Depot Inc, 1.06%\n",
      "JPM, JPMorgan Chase & Co, 1.05%\n",
      "UNH, UnitedHealth Group Inc, 1.04%\n",
      "Common equity, 99.97%\n",
      "ETF Cash Component, 0.03%\n",
      "Technology, 27.53%\n",
      "Healthcare, 13.83%\n",
      "Consumer, Cyclical, 11.32%\n",
      "Communications, 10.77%\n",
      "Financials, 9.24%\n",
      "Industrials, 7.56%\n",
      "Consumer, Non-Cyclical, 6.99%\n",
      "Other, 3.39%\n",
      "Utilities, 2.92%\n",
      "Real Estate, 2.58%\n",
      "Energy, 2.08%\n",
      "Basic Materials, 1.76%\n",
      "ETF Cash Component, 0.03%\n",
      "Large cap, 90.8%\n",
      "Mid cap, 8.48%\n",
      "Small cap, 0.7%\n",
      "ETF Cash Component, 0.03%\n",
      "North America, 97.9%\n",
      "Europe, 2.07%\n",
      "ETF Cash Component, 0.03%\n",
      "United States, 97.89%\n",
      "Developed Markets (ex-US), 2.08%\n",
      "ETF Cash Component, 0.03%\n",
      "United States, 97.89%\n",
      "United Kingdom, 0.91%\n",
      "Ireland, 0.76%\n",
      "Germany, 0.24%\n",
      "Switzerland, 0.17%\n",
      "ETF Cash Component, 0.03%\n",
      "Canada, 0.01%\n",
      "Common equity, 99.97%\n",
      "ETF Cash Component, 0.03%\n"
     ]
    }
   ],
   "source": [
    "# Search for ETF list data\n",
    "data1=[]\n",
    "for row in soup1.select('tbody tr'):\n",
    "    row_text = [x.text for x in row.find_all('td')]\n",
    "    data1.append((row_text))\n",
    "    print(', '.join(row_text))"
   ]
  },
  {
   "cell_type": "code",
   "execution_count": 18,
   "metadata": {},
   "outputs": [
    {
     "name": "stdout",
     "output_type": "stream",
     "text": [
      "Open, -, Volume, -\n",
      "Day Lo, -, Day Hi, -\n",
      "\n",
      "Cheapest\n",
      ", BKLC, 0.00%, \n",
      "$95.3 M\n",
      ", \n",
      "15,545\n",
      ", \n",
      "\n",
      "Largest (AUM)\n",
      ", SPY, 0.09%, \n",
      "$300.6 B\n",
      ", \n",
      "67 M\n",
      ", 6.59%\n",
      "\n",
      "Most Liquid (Volume)\n",
      ", SPY, 0.09%, \n",
      "$300.6 B\n",
      ", \n",
      "67 M\n",
      ", 6.59%\n",
      "\n",
      "Top YTD Performer\n",
      ", ARKW, 0.76%, \n",
      "$3.0 B\n",
      ", \n",
      "719,929\n",
      ", 105.23%\n",
      "AAPL, Apple Inc, 13.33%\n",
      "AMZN, Amazon.com Inc, 10.76%\n",
      "MSFT, Microsoft Corp, 10.71%\n",
      "FB, Facebook Inc, 4.30%\n",
      "GOOGL, Alphabet Inc, 3.45%\n",
      "TSLA, Tesla Inc, 3.40%\n",
      "GOOG, Alphabet Inc, 3.34%\n",
      "NVDA, NVIDIA Corp, 2.84%\n",
      "ADBE, Adobe Inc, 2.04%\n",
      "PYPL, PayPal Holdings Inc, 1.99%\n",
      "INTC, Intel Corp, 1.90%\n",
      "NFLX, Netflix Inc, 1.90%\n",
      "CMCSA, Comcast Corp, 1.83%\n",
      "PEP, PepsiCo Inc, 1.65%\n",
      "CSCO, Cisco Systems Inc, 1.44%\n",
      "Common equity, 99.97%\n",
      "ETF Cash Component, 0.03%\n",
      "Technology, 45.77%\n",
      "Communications, 19.09%\n",
      "Consumer, Cyclical, 18.01%\n",
      "Healthcare, 6.39%\n",
      "Consumer, Non-Cyclical, 4.66%\n",
      "Other, 3.66%\n",
      "Industrials, 1.78%\n",
      "Utilities, 0.61%\n",
      "ETF Cash Component, 0.03%\n",
      "Large cap, 98.21%\n",
      "Mid cap, 1.73%\n",
      "Small cap, 0.03%\n",
      "ETF Cash Component, 0.03%\n",
      "North America, 95.96%\n",
      "Europe, 1.88%\n",
      "Asia, 1.51%\n",
      "Latin America, 0.47%\n",
      "Middle East, 0.15%\n",
      "ETF Cash Component, 0.03%\n",
      "United States, 95.96%\n",
      "Developed Markets (ex-US), 2.03%\n",
      "Emerging Markets, 1.98%\n",
      "ETF Cash Component, 0.03%\n",
      "United States, 95.96%\n",
      "China, 1.51%\n",
      "Germany, 1.22%\n",
      "Netherlands, 0.55%\n",
      "Argentina, 0.47%\n",
      "Israel, 0.15%\n",
      "United Kingdom, 0.11%\n",
      "ETF Cash Component, 0.03%\n",
      "Common equity, 99.97%\n",
      "ETF Cash Component, 0.03%\n"
     ]
    }
   ],
   "source": [
    "# Search for ETF list data\n",
    "data2=[]\n",
    "for row in soup2.select('tbody tr'):\n",
    "    row_text2 = [x.text for x in row.find_all('td')]\n",
    "    data2.append((row_text2))\n",
    "    print(', '.join(row_text2))"
   ]
  },
  {
   "cell_type": "code",
   "execution_count": 19,
   "metadata": {},
   "outputs": [
    {
     "name": "stdout",
     "output_type": "stream",
     "text": [
      "Open, -, Volume, -\n",
      "Day Lo, -, Day Hi, -\n",
      "\n",
      "Cheapest\n",
      ", VGT, 0.10%, \n",
      "$37.4 B\n",
      ", \n",
      "778,903\n",
      ", 29.00%\n",
      "\n",
      "Largest (AUM)\n",
      ", VGT, 0.10%, \n",
      "$37.4 B\n",
      ", \n",
      "778,903\n",
      ", 29.00%\n",
      "\n",
      "Most Liquid (Volume)\n",
      ", XLK, 0.13%, \n",
      "$34.5 B\n",
      ", \n",
      "10 M\n",
      ", 28.33%\n",
      "\n",
      "Top YTD Performer\n",
      ", CLOU, 0.68%, \n",
      "$1.3 B\n",
      ", \n",
      "1 M\n",
      ", 59.46%\n",
      "AAPL, Apple Inc, 21.76%\n",
      "MSFT, Microsoft Corp, 16.43%\n",
      "V, Visa Inc, 3.70%\n",
      "NVDA, NVIDIA Corp, 3.58%\n",
      "MA, Mastercard Inc, 3.31%\n",
      "ADBE, Adobe Inc, 2.59%\n",
      "CRM, Salesforce.Com Inc, 2.45%\n",
      "PYPL, PayPal Holdings Inc, 2.38%\n",
      "INTC, Intel Corp, 2.38%\n",
      "CSCO, Cisco Systems Inc, 1.81%\n",
      "AVGO, Broadcom Inc, 1.60%\n",
      "ACN, Accenture PLC, 1.57%\n",
      "QCOM, Qualcomm Inc, 1.45%\n",
      "TXN, Texas Instruments Inc, 1.43%\n",
      "ORCL, Oracle Corp, 1.34%\n",
      "Common equity, 99.74%\n",
      "ETF Cash Component, 0.26%\n",
      "Technology, 94.95%\n",
      "Other, 4.67%\n",
      "ETF Cash Component, 0.26%\n",
      "Industrials, 0.12%\n",
      "Communications, 0.01%\n",
      "Large cap, 87.56%\n",
      "Mid cap, 7.81%\n",
      "Small cap, 3.28%\n",
      "Micro cap, 1.08%\n",
      "ETF Cash Component, 0.26%\n",
      "North America, 96.72%\n",
      "Europe, 2.76%\n",
      "ETF Cash Component, 0.26%\n",
      "Middle East, 0.13%\n",
      "Asia-Pacific, 0.08%\n",
      "Asia, 0.03%\n",
      "Latin America, 0.02%\n",
      "United States, 96.71%\n",
      "Developed Markets (ex-US), 2.98%\n",
      "ETF Cash Component, 0.26%\n",
      "Emerging Markets, 0.03%\n",
      "Not-designated, 0.02%\n",
      "United States, 96.71%\n",
      "Ireland, 1.7%\n",
      "Netherlands, 0.38%\n",
      "Switzerland, 0.35%\n",
      "United Kingdom, 0.32%\n",
      "ETF Cash Component, 0.26%\n",
      "Israel, 0.13%\n",
      "Singapore, 0.08%\n",
      "Thailand, 0.03%\n",
      "Puerto Rico, 0.02%\n",
      "France, 0.01%\n",
      "Canada, 0.01%\n",
      "Luxembourg, 0.0%\n",
      "Common equity, 99.74%\n",
      "ETF Cash Component, 0.26%\n"
     ]
    }
   ],
   "source": [
    "# Search for ETF list data\n",
    "data3=[]\n",
    "for row in soup3.select('tbody tr'):\n",
    "    row_text3 = [x.text for x in row.find_all('td')]\n",
    "    data3.append((row_text3))\n",
    "    print(', '.join(row_text3))"
   ]
  },
  {
   "cell_type": "code",
   "execution_count": 20,
   "metadata": {},
   "outputs": [
    {
     "name": "stdout",
     "output_type": "stream",
     "text": [
      "Open, -, Volume, -\n",
      "Day Lo, -, Day Hi, -\n",
      "\n",
      "Cheapest\n",
      ", VGT, 0.10%, \n",
      "$37.4 B\n",
      ", \n",
      "778,903\n",
      ", 29.00%\n",
      "\n",
      "Largest (AUM)\n",
      ", VGT, 0.10%, \n",
      "$37.4 B\n",
      ", \n",
      "778,903\n",
      ", 29.00%\n",
      "\n",
      "Most Liquid (Volume)\n",
      ", XLK, 0.13%, \n",
      "$34.5 B\n",
      ", \n",
      "10 M\n",
      ", 28.33%\n",
      "\n",
      "Top YTD Performer\n",
      ", CLOU, 0.68%, \n",
      "$1.3 B\n",
      ", \n",
      "1 M\n",
      ", 59.46%\n",
      "AAPL, Apple Inc, 21.76%\n",
      "MSFT, Microsoft Corp, 16.43%\n",
      "V, Visa Inc, 3.70%\n",
      "NVDA, NVIDIA Corp, 3.58%\n",
      "MA, Mastercard Inc, 3.31%\n",
      "ADBE, Adobe Inc, 2.59%\n",
      "CRM, Salesforce.Com Inc, 2.45%\n",
      "PYPL, PayPal Holdings Inc, 2.38%\n",
      "INTC, Intel Corp, 2.38%\n",
      "CSCO, Cisco Systems Inc, 1.81%\n",
      "AVGO, Broadcom Inc, 1.60%\n",
      "ACN, Accenture PLC, 1.57%\n",
      "QCOM, Qualcomm Inc, 1.45%\n",
      "TXN, Texas Instruments Inc, 1.43%\n",
      "ORCL, Oracle Corp, 1.34%\n",
      "Common equity, 99.74%\n",
      "ETF Cash Component, 0.26%\n",
      "Technology, 94.95%\n",
      "Other, 4.67%\n",
      "ETF Cash Component, 0.26%\n",
      "Industrials, 0.12%\n",
      "Communications, 0.01%\n",
      "Large cap, 87.56%\n",
      "Mid cap, 7.81%\n",
      "Small cap, 3.28%\n",
      "Micro cap, 1.08%\n",
      "ETF Cash Component, 0.26%\n",
      "North America, 96.72%\n",
      "Europe, 2.76%\n",
      "ETF Cash Component, 0.26%\n",
      "Middle East, 0.13%\n",
      "Asia-Pacific, 0.08%\n",
      "Asia, 0.03%\n",
      "Latin America, 0.02%\n",
      "United States, 96.71%\n",
      "Developed Markets (ex-US), 2.98%\n",
      "ETF Cash Component, 0.26%\n",
      "Emerging Markets, 0.03%\n",
      "Not-designated, 0.02%\n",
      "United States, 96.71%\n",
      "Ireland, 1.7%\n",
      "Netherlands, 0.38%\n",
      "Switzerland, 0.35%\n",
      "United Kingdom, 0.32%\n",
      "ETF Cash Component, 0.26%\n",
      "Israel, 0.13%\n",
      "Singapore, 0.08%\n",
      "Thailand, 0.03%\n",
      "Puerto Rico, 0.02%\n",
      "France, 0.01%\n",
      "Canada, 0.01%\n",
      "Luxembourg, 0.0%\n",
      "Common equity, 99.74%\n",
      "ETF Cash Component, 0.26%\n"
     ]
    }
   ],
   "source": [
    "# Search for ETF list data\n",
    "data4=[]\n",
    "for row in soup3.select('tbody tr'):\n",
    "    row_text4 = [x.text for x in row.find_all('td')]\n",
    "    data4.append((row_text4))\n",
    "    print(', '.join(row_text4))"
   ]
  },
  {
   "cell_type": "code",
   "execution_count": 21,
   "metadata": {},
   "outputs": [
    {
     "name": "stdout",
     "output_type": "stream",
     "text": [
      "Open, -, Volume, -\n",
      "Day Lo, -, Day Hi, -\n",
      "\n",
      "Cheapest\n",
      ", VGT, 0.10%, \n",
      "$37.4 B\n",
      ", \n",
      "778,903\n",
      ", 29.00%\n",
      "\n",
      "Largest (AUM)\n",
      ", VGT, 0.10%, \n",
      "$37.4 B\n",
      ", \n",
      "778,903\n",
      ", 29.00%\n",
      "\n",
      "Most Liquid (Volume)\n",
      ", XLK, 0.13%, \n",
      "$34.5 B\n",
      ", \n",
      "10 M\n",
      ", 28.33%\n",
      "\n",
      "Top YTD Performer\n",
      ", CLOU, 0.68%, \n",
      "$1.3 B\n",
      ", \n",
      "1 M\n",
      ", 59.46%\n",
      "AAPL, Apple Inc, 21.76%\n",
      "MSFT, Microsoft Corp, 16.43%\n",
      "V, Visa Inc, 3.70%\n",
      "NVDA, NVIDIA Corp, 3.58%\n",
      "MA, Mastercard Inc, 3.31%\n",
      "ADBE, Adobe Inc, 2.59%\n",
      "CRM, Salesforce.Com Inc, 2.45%\n",
      "PYPL, PayPal Holdings Inc, 2.38%\n",
      "INTC, Intel Corp, 2.38%\n",
      "CSCO, Cisco Systems Inc, 1.81%\n",
      "AVGO, Broadcom Inc, 1.60%\n",
      "ACN, Accenture PLC, 1.57%\n",
      "QCOM, Qualcomm Inc, 1.45%\n",
      "TXN, Texas Instruments Inc, 1.43%\n",
      "ORCL, Oracle Corp, 1.34%\n",
      "Common equity, 99.74%\n",
      "ETF Cash Component, 0.26%\n",
      "Technology, 94.95%\n",
      "Other, 4.67%\n",
      "ETF Cash Component, 0.26%\n",
      "Industrials, 0.12%\n",
      "Communications, 0.01%\n",
      "Large cap, 87.56%\n",
      "Mid cap, 7.81%\n",
      "Small cap, 3.28%\n",
      "Micro cap, 1.08%\n",
      "ETF Cash Component, 0.26%\n",
      "North America, 96.72%\n",
      "Europe, 2.76%\n",
      "ETF Cash Component, 0.26%\n",
      "Middle East, 0.13%\n",
      "Asia-Pacific, 0.08%\n",
      "Asia, 0.03%\n",
      "Latin America, 0.02%\n",
      "United States, 96.71%\n",
      "Developed Markets (ex-US), 2.98%\n",
      "ETF Cash Component, 0.26%\n",
      "Emerging Markets, 0.03%\n",
      "Not-designated, 0.02%\n",
      "United States, 96.71%\n",
      "Ireland, 1.7%\n",
      "Netherlands, 0.38%\n",
      "Switzerland, 0.35%\n",
      "United Kingdom, 0.32%\n",
      "ETF Cash Component, 0.26%\n",
      "Israel, 0.13%\n",
      "Singapore, 0.08%\n",
      "Thailand, 0.03%\n",
      "Puerto Rico, 0.02%\n",
      "France, 0.01%\n",
      "Canada, 0.01%\n",
      "Luxembourg, 0.0%\n",
      "Common equity, 99.74%\n",
      "ETF Cash Component, 0.26%\n"
     ]
    }
   ],
   "source": [
    "# Search for ETF list data\n",
    "data5=[]\n",
    "for row in soup3.select('tbody tr'):\n",
    "    row_text5 = [x.text for x in row.find_all('td')]\n",
    "    data5.append((row_text5))\n",
    "    print(', '.join(row_text5))"
   ]
  },
  {
   "cell_type": "markdown",
   "metadata": {},
   "source": [
    "\n",
    "\n",
    "\n",
    "# Clean up data"
   ]
  },
  {
   "cell_type": "code",
   "execution_count": 22,
   "metadata": {},
   "outputs": [],
   "source": [
    "#SELECT ONLY STOCK INFO FROM 'DATA' parse through\n",
    "#TODO: ITERATE THROUGH KEYS RATHER THAN STATIC POSITIONS\n",
    "stock_list1 = data1[6:21]\n",
    "stock_list2 = data2[6:21]\n",
    "stock_list3 = data3[6:21]\n",
    "stock_list4 = data4[6:21]\n",
    "stock_list5 = data5[6:21]"
   ]
  },
  {
   "cell_type": "code",
   "execution_count": 23,
   "metadata": {},
   "outputs": [],
   "source": [
    "stock_list_df1 = pd.DataFrame(stock_list1)\n",
    "stock_list_df2 = pd.DataFrame(stock_list2)\n",
    "stock_list_df3 = pd.DataFrame(stock_list3)\n",
    "stock_list_df4 = pd.DataFrame(stock_list4)\n",
    "stock_list_df5 = pd.DataFrame(stock_list5)\n"
   ]
  },
  {
   "cell_type": "code",
   "execution_count": 24,
   "metadata": {},
   "outputs": [
    {
     "data": {
      "text/html": [
       "<div>\n",
       "<style scoped>\n",
       "    .dataframe tbody tr th:only-of-type {\n",
       "        vertical-align: middle;\n",
       "    }\n",
       "\n",
       "    .dataframe tbody tr th {\n",
       "        vertical-align: top;\n",
       "    }\n",
       "\n",
       "    .dataframe thead th {\n",
       "        text-align: right;\n",
       "    }\n",
       "</style>\n",
       "<table border=\"1\" class=\"dataframe\">\n",
       "  <thead>\n",
       "    <tr style=\"text-align: right;\">\n",
       "      <th></th>\n",
       "      <th>Ticker</th>\n",
       "      <th>Name</th>\n",
       "      <th>Allocation</th>\n",
       "    </tr>\n",
       "  </thead>\n",
       "  <tbody>\n",
       "    <tr>\n",
       "      <th>0</th>\n",
       "      <td>AAPL</td>\n",
       "      <td>Apple Inc</td>\n",
       "      <td>21.76%</td>\n",
       "    </tr>\n",
       "    <tr>\n",
       "      <th>1</th>\n",
       "      <td>MSFT</td>\n",
       "      <td>Microsoft Corp</td>\n",
       "      <td>16.43%</td>\n",
       "    </tr>\n",
       "    <tr>\n",
       "      <th>2</th>\n",
       "      <td>V</td>\n",
       "      <td>Visa Inc</td>\n",
       "      <td>3.70%</td>\n",
       "    </tr>\n",
       "    <tr>\n",
       "      <th>3</th>\n",
       "      <td>NVDA</td>\n",
       "      <td>NVIDIA Corp</td>\n",
       "      <td>3.58%</td>\n",
       "    </tr>\n",
       "    <tr>\n",
       "      <th>4</th>\n",
       "      <td>MA</td>\n",
       "      <td>Mastercard Inc</td>\n",
       "      <td>3.31%</td>\n",
       "    </tr>\n",
       "  </tbody>\n",
       "</table>\n",
       "</div>"
      ],
      "text/plain": [
       "  Ticker            Name Allocation\n",
       "0   AAPL       Apple Inc     21.76%\n",
       "1   MSFT  Microsoft Corp     16.43%\n",
       "2      V        Visa Inc      3.70%\n",
       "3   NVDA     NVIDIA Corp      3.58%\n",
       "4     MA  Mastercard Inc      3.31%"
      ]
     },
     "execution_count": 24,
     "metadata": {},
     "output_type": "execute_result"
    }
   ],
   "source": [
    " # Rewrite the column names\n",
    "columns = [\"Ticker\", \"Name\",\"Allocation\"]\n",
    "stock_list_df1.columns = columns\n",
    "stock_list_df1.head() \n",
    "\n",
    "\n",
    "stock_list_df2.columns = columns\n",
    "stock_list_df2.head() \n",
    "\n",
    "\n",
    "stock_list_df3.columns = columns\n",
    "stock_list_df3.head() \n",
    "\n",
    "stock_list_df4.columns = columns\n",
    "stock_list_df4.head() \n",
    "\n",
    "stock_list_df5.columns = columns\n",
    "stock_list_df5.head() \n",
    "\n"
   ]
  },
  {
   "cell_type": "code",
   "execution_count": 25,
   "metadata": {},
   "outputs": [],
   "source": [
    "# TODO: THis can be accomplished converting the type in the list from beatifulsoup"
   ]
  },
  {
   "cell_type": "code",
   "execution_count": 26,
   "metadata": {},
   "outputs": [],
   "source": [
    "stock_list_df1['Allocation'] = stock_list_df1['Allocation'].str.replace(',', '')\n",
    "stock_list_df1['Allocation'] = stock_list_df1['Allocation'].str.replace('%', '')\n",
    "stock_list_df1['Allocation'] = stock_list_df1['Allocation'].astype(float).div(100)"
   ]
  },
  {
   "cell_type": "code",
   "execution_count": 27,
   "metadata": {},
   "outputs": [],
   "source": [
    "stock_list_df2['Allocation'] = stock_list_df2['Allocation'].str.replace(',', '')\n",
    "stock_list_df2['Allocation'] = stock_list_df2['Allocation'].str.replace('%', '')\n",
    "stock_list_df2['Allocation'] = stock_list_df2['Allocation'].astype(float).div(100)"
   ]
  },
  {
   "cell_type": "code",
   "execution_count": 28,
   "metadata": {},
   "outputs": [],
   "source": [
    "stock_list_df3['Allocation'] = stock_list_df3['Allocation'].str.replace(',', '')\n",
    "stock_list_df3['Allocation'] = stock_list_df3['Allocation'].str.replace('%', '')\n",
    "stock_list_df3['Allocation'] = stock_list_df3['Allocation'].astype(float).div(100)"
   ]
  },
  {
   "cell_type": "code",
   "execution_count": 29,
   "metadata": {},
   "outputs": [],
   "source": [
    "stock_list_df4['Allocation'] = stock_list_df4['Allocation'].str.replace(',', '')\n",
    "stock_list_df4['Allocation'] = stock_list_df4['Allocation'].str.replace('%', '')\n",
    "stock_list_df4['Allocation'] = stock_list_df4['Allocation'].astype(float).div(100)"
   ]
  },
  {
   "cell_type": "code",
   "execution_count": 30,
   "metadata": {},
   "outputs": [],
   "source": [
    "stock_list_df5['Allocation'] = stock_list_df5['Allocation'].str.replace(',', '')\n",
    "stock_list_df5['Allocation'] = stock_list_df5['Allocation'].str.replace('%', '')\n",
    "stock_list_df5['Allocation'] = stock_list_df5['Allocation'].astype(float).div(100)"
   ]
  },
  {
   "cell_type": "code",
   "execution_count": 34,
   "metadata": {},
   "outputs": [],
   "source": [
    "stock_list_df1['dollar'] = stock_list_df1.Allocation * etf_sut[0]\n",
    "stock_list_df2['dollar'] = stock_list_df2.Allocation * etf_sut[1]\n",
    "stock_list_df3['dollar'] = stock_list_df3.Allocation * etf_sut[2]\n",
    "stock_list_df4['dollar'] = stock_list_df4.Allocation * etf_sut[3]\n",
    "stock_list_df5['dollar'] = stock_list_df5.Allocation * etf_sut[4]\n"
   ]
  },
  {
   "cell_type": "code",
   "execution_count": 35,
   "metadata": {},
   "outputs": [],
   "source": [
    "#try concat, then search\n",
    "\n",
    "stock_df = pd.concat([stock_list_df1, stock_list_df2, stock_list_df3, stock_list_df4, stock_list_df5])"
   ]
  },
  {
   "cell_type": "code",
   "execution_count": 36,
   "metadata": {},
   "outputs": [
    {
     "data": {
      "text/html": [
       "<div>\n",
       "<style scoped>\n",
       "    .dataframe tbody tr th:only-of-type {\n",
       "        vertical-align: middle;\n",
       "    }\n",
       "\n",
       "    .dataframe tbody tr th {\n",
       "        vertical-align: top;\n",
       "    }\n",
       "\n",
       "    .dataframe thead th {\n",
       "        text-align: right;\n",
       "    }\n",
       "</style>\n",
       "<table border=\"1\" class=\"dataframe\">\n",
       "  <thead>\n",
       "    <tr style=\"text-align: right;\">\n",
       "      <th></th>\n",
       "      <th>Ticker</th>\n",
       "      <th>Name</th>\n",
       "      <th>Allocation</th>\n",
       "      <th>dollar</th>\n",
       "    </tr>\n",
       "  </thead>\n",
       "  <tbody>\n",
       "    <tr>\n",
       "      <th>3</th>\n",
       "      <td>FB</td>\n",
       "      <td>Facebook Inc</td>\n",
       "      <td>0.0228</td>\n",
       "      <td>22.8</td>\n",
       "    </tr>\n",
       "    <tr>\n",
       "      <th>3</th>\n",
       "      <td>FB</td>\n",
       "      <td>Facebook Inc</td>\n",
       "      <td>0.0430</td>\n",
       "      <td>43.0</td>\n",
       "    </tr>\n",
       "  </tbody>\n",
       "</table>\n",
       "</div>"
      ],
      "text/plain": [
       "  Ticker          Name  Allocation  dollar\n",
       "3     FB  Facebook Inc      0.0228    22.8\n",
       "3     FB  Facebook Inc      0.0430    43.0"
      ]
     },
     "execution_count": 36,
     "metadata": {},
     "output_type": "execute_result"
    }
   ],
   "source": [
    "#Search user input through various stocks\n",
    "\n",
    "search_stock = stock_df.loc[stock_df['Ticker'] == stocks_of_interest]\n",
    "search_stock"
   ]
  },
  {
   "cell_type": "code",
   "execution_count": 38,
   "metadata": {},
   "outputs": [],
   "source": [
    "stock_search_price = prev_close['Previous Close'].replace(',','', regex=True)"
   ]
  },
  {
   "cell_type": "code",
   "execution_count": 39,
   "metadata": {},
   "outputs": [
    {
     "data": {
      "text/plain": [
       "0    283.29\n",
       "Name: Previous Close, dtype: float64"
      ]
     },
     "execution_count": 39,
     "metadata": {},
     "output_type": "execute_result"
    }
   ],
   "source": [
    "stock_search_price = stock_search_price.astype(float)\n",
    "\n",
    "stock_search_price"
   ]
  },
  {
   "cell_type": "code",
   "execution_count": 40,
   "metadata": {},
   "outputs": [],
   "source": [
    "etf_stock_price = search_stock['dollar']"
   ]
  },
  {
   "cell_type": "markdown",
   "metadata": {},
   "source": [
    "# Create output"
   ]
  },
  {
   "cell_type": "code",
   "execution_count": 43,
   "metadata": {},
   "outputs": [],
   "source": [
    "user_stock = etf_stock_price.sum() / stock_search_price"
   ]
  },
  {
   "cell_type": "code",
   "execution_count": 44,
   "metadata": {},
   "outputs": [
    {
     "data": {
      "text/plain": [
       "0    0.232271\n",
       "Name: Previous Close, dtype: float64"
      ]
     },
     "execution_count": 44,
     "metadata": {},
     "output_type": "execute_result"
    }
   ],
   "source": [
    "user_stock"
   ]
  },
  {
   "cell_type": "code",
   "execution_count": 45,
   "metadata": {},
   "outputs": [
    {
     "data": {
      "text/plain": [
       "pandas.core.series.Series"
      ]
     },
     "execution_count": 45,
     "metadata": {},
     "output_type": "execute_result"
    }
   ],
   "source": [
    "type(user_stock)"
   ]
  },
  {
   "cell_type": "code",
   "execution_count": 46,
   "metadata": {},
   "outputs": [],
   "source": [
    "# pd.DataFrame({'sum': user_stock.sum()})\n",
    "total = user_stock.sum()"
   ]
  },
  {
   "cell_type": "code",
   "execution_count": 47,
   "metadata": {},
   "outputs": [
    {
     "name": "stdout",
     "output_type": "stream",
     "text": [
      "0.2322708178897949\n"
     ]
    }
   ],
   "source": [
    "print(total)"
   ]
  },
  {
   "cell_type": "code",
   "execution_count": null,
   "metadata": {},
   "outputs": [],
   "source": [
    "# data[:20]"
   ]
  },
  {
   "cell_type": "code",
   "execution_count": null,
   "metadata": {},
   "outputs": [],
   "source": [
    "# def get_stock(item, stonk):\n",
    "#     if item[0] == stonk:\n",
    "#         return item"
   ]
  },
  {
   "cell_type": "code",
   "execution_count": null,
   "metadata": {},
   "outputs": [],
   "source": [
    "# for index, item in enumerate(data):\n",
    "#     my_answer = get_stock(item, stocks_of_interest)\n",
    "#     if my_answer != None:\n",
    "#         good_answer = my_answer"
   ]
  },
  {
   "cell_type": "code",
   "execution_count": null,
   "metadata": {},
   "outputs": [],
   "source": [
    "# (lambda x: x[:-1]"
   ]
  },
  {
   "cell_type": "code",
   "execution_count": null,
   "metadata": {},
   "outputs": [],
   "source": [
    "# good_answer = good_answer[-1]\n",
    "# good_answer"
   ]
  },
  {
   "cell_type": "code",
   "execution_count": null,
   "metadata": {},
   "outputs": [],
   "source": [
    "# good_answer[:-1]"
   ]
  }
 ],
 "metadata": {
  "kernelspec": {
   "display_name": "Python 3",
   "language": "python",
   "name": "python3"
  },
  "language_info": {
   "codemirror_mode": {
    "name": "ipython",
    "version": 3
   },
   "file_extension": ".py",
   "mimetype": "text/x-python",
   "name": "python",
   "nbconvert_exporter": "python",
   "pygments_lexer": "ipython3",
   "version": "3.8.3"
  }
 },
 "nbformat": 4,
 "nbformat_minor": 4
}
