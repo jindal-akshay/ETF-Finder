{
 "cells": [
  {
   "cell_type": "markdown",
   "metadata": {},
   "source": [
    "## Import libraries"
   ]
  },
  {
   "cell_type": "code",
   "execution_count": 1,
   "metadata": {},
   "outputs": [],
   "source": [
    "\n",
    "\n",
    "import numpy as np\n",
    "import pandas as pd\n",
    "import requests\n",
    "from bs4 import BeautifulSoup as bs\n",
    "from pathlib import Path\n"
   ]
  },
  {
   "cell_type": "markdown",
   "metadata": {},
   "source": [
    "# Define Functions"
   ]
  },
  {
   "cell_type": "code",
   "execution_count": 3,
   "metadata": {},
   "outputs": [
    {
     "name": "stdin",
     "output_type": "stream",
     "text": [
      "Input Stock of Interest:  AAPL\n"
     ]
    }
   ],
   "source": [
    "# Function for user stock of choice\n",
    "def user_stock_choice(stock_of_interest):  \n",
    "    return stocks\n",
    "\n",
    "# Function for etf dollar amount\n",
    "def etf_values(etf_amount):\n",
    "    \n",
    "    etf_amount = []\n",
    "        \n",
    "    return etf_dollar\n",
    "\n",
    "# Function for the ETF of choice\n",
    "\n",
    "def etf_selection(etfs):\n",
    "    etfs = []\n",
    "\n",
    "# etfs = str( input(\"Input your ETF of Interest: \") )\n",
    "# etf_amount = int( input(\"Input how much money invested in ETF: \") )\n",
    "stocks_of_interest = str( input(\"Input Stock of Interest: \") )\n",
    "\n",
    "\n",
    "# etf_selection(etfs)\n",
    "\n",
    "# Function to calculate output\n",
    "\n",
    "# def calc_output(etfs,stock_of_interest,result_am):\n",
    "   \n",
    "#     results_am = etfs * etfs_value\n",
    "    \n",
    "\n",
    "#     return calc\n",
    "\n",
    "\n",
    "\n"
   ]
  },
  {
   "cell_type": "code",
   "execution_count": 4,
   "metadata": {},
   "outputs": [
    {
     "name": "stdin",
     "output_type": "stream",
     "text": [
      "Enter the dollar amount :  1000 5000 2000\n"
     ]
    },
    {
     "name": "stdout",
     "output_type": "stream",
     "text": [
      "How much are you invested in each ETF :  ['1000', '5000', '2000']\n"
     ]
    }
   ],
   "source": [
    "# taking multiple inputs at a time  \n",
    "etf_sut = [str(etf_sut) for etf_sut in input(\"Enter the dollar amount : \").split()] \n",
    "print(\"How much are you invested in each ETF : \", etf_sut) "
   ]
  },
  {
   "cell_type": "code",
   "execution_count": 5,
   "metadata": {},
   "outputs": [
    {
     "name": "stdin",
     "output_type": "stream",
     "text": [
      "Enter the ETFS of interest:  QQQ FTEC SPY\n"
     ]
    },
    {
     "name": "stdout",
     "output_type": "stream",
     "text": [
      "The ETFS you selected are:  ['QQQ', 'FTEC', 'SPY']\n"
     ]
    }
   ],
   "source": [
    "# taking multiple inputs at a time  \n",
    "etf1 = [str(etf1) for etf1 in input(\"Enter the ETFS of interest: \").split()] \n",
    "print(\"The ETFS you selected are: \", etf1) "
   ]
  },
  {
   "cell_type": "code",
   "execution_count": 6,
   "metadata": {},
   "outputs": [],
   "source": [
    "  \n",
    "base_url = 'https://etfdb.com/etf'\n",
    "function = '#holdings'\n",
    "# etf_selec = etfs"
   ]
  },
  {
   "cell_type": "code",
   "execution_count": 7,
   "metadata": {},
   "outputs": [],
   "source": [
    "batch_size = 3\n",
    "urllist = [f'{base_url}/{etf1[0]}/{function}', f'{base_url}/{etf1[1]}/{function}', f'{base_url}/{etf1[2]}/{function}']\n",
    "url_chunks = [urllist[x:x+batch_size] for x in range(0, len(urllist), batch_size)]\n",
    "\n",
    "# def scrape_url(urllist):\n",
    "#     response = requests.get(urllist)\n",
    "#     soup = bs(response.content, \"html.parser\")\n",
    "#     h1 = soup.find(\"h1\", class_= \"class-headline\")\n",
    "#     return (h1.get_text())\n",
    "\n",
    "# def scrape_batch(url_chunks):\n",
    "#     chunk_resp = []\n",
    "#     for urllist in url_chunks:\n",
    "#         chunk_resp.append(scrape_url(urllist))\n",
    "#     return chunk_resp\n",
    "\n",
    "#     for url_chunks in url_chunks:\n",
    "#         print(scrape_batch(url_chunks))"
   ]
  },
  {
   "cell_type": "code",
   "execution_count": 8,
   "metadata": {},
   "outputs": [
    {
     "name": "stdout",
     "output_type": "stream",
     "text": [
      "['https://etfdb.com/etf/QQQ/#holdings', 'https://etfdb.com/etf/FTEC/#holdings', 'https://etfdb.com/etf/SPY/#holdings']\n"
     ]
    }
   ],
   "source": [
    "print((urllist))"
   ]
  },
  {
   "cell_type": "markdown",
   "metadata": {},
   "source": [
    "# Scrape for Data"
   ]
  },
  {
   "cell_type": "code",
   "execution_count": 9,
   "metadata": {},
   "outputs": [],
   "source": [
    "# Access The ETFDB website \n",
    "\n",
    "# # TODO: Have multiple ETF Selections\n",
    "\n",
    "\n",
    "    \n",
    "# base_url = 'https://etfdb.com/etf'\n",
    "# function = '#holdings'\n",
    "# etf_selec = etfs\n",
    "    \n",
    "\n",
    "response1 = requests.get(urllist[0]) .text\n",
    "response2 = requests.get(urllist[1]) .text\n",
    "response3 = requests.get(urllist[2]) .text\n",
    "\n",
    "soup1 = bs(response1, 'lxml')\n",
    "soup2 = bs(response2, 'lxml')\n",
    "soup3 = bs(response3, 'lxml')\n"
   ]
  },
  {
   "cell_type": "code",
   "execution_count": 10,
   "metadata": {},
   "outputs": [],
   "source": [
    "# Access the Yahoo Finance website\n",
    "\n",
    "base = 'https://finance.yahoo.com/quote/'\n",
    "\n",
    "response_stock = requests.get(f'{base}{stocks_of_interest}?p={stocks_of_interest}&.tsrc=fin-srch%27') .text\n",
    "\n",
    "soup_stock = bs(response_stock,\"html.parser\")"
   ]
  },
  {
   "cell_type": "code",
   "execution_count": 11,
   "metadata": {},
   "outputs": [],
   "source": [
    "#Establish frame of searches\n",
    "#Lists to store \n",
    "# Part of page\n",
    "l={}\n",
    "u=list()\n",
    "alldata = soup_stock.find_all('tbody')"
   ]
  },
  {
   "cell_type": "markdown",
   "metadata": {},
   "source": [
    "alldataint out table of search"
   ]
  },
  {
   "cell_type": "code",
   "execution_count": 12,
   "metadata": {},
   "outputs": [],
   "source": [
    "\n",
    "try:\n",
    " table1 = alldata[0].find_all(\"tr\")\n",
    "except:\n",
    " table1=None\n",
    "try:\n",
    " table2 = alldata[1].find_all(\"tr\")\n",
    "except:\n",
    " table2 = None"
   ]
  },
  {
   "cell_type": "code",
   "execution_count": 13,
   "metadata": {},
   "outputs": [],
   "source": [
    "for i in range(0,len(table1)):\n",
    " try:\n",
    "   table1_td = table1[i].find_all(\"td\")\n",
    " except:\n",
    "   table1_td = None\n",
    " l[table1_td[0].text] = table1_td[1].text\n",
    " u.append(l)\n",
    " l={}"
   ]
  },
  {
   "cell_type": "code",
   "execution_count": 14,
   "metadata": {},
   "outputs": [],
   "source": [
    "for i in range(0,len(table2)):\n",
    " try:\n",
    "   table2_td = table2[i].find_all('td')\n",
    " except:\n",
    "   table2_td = None\n",
    " l[table2_td[0].text] = table2_td[1].text\n",
    " u.append(l)\n",
    " l={}"
   ]
  },
  {
   "cell_type": "code",
   "execution_count": 15,
   "metadata": {},
   "outputs": [],
   "source": [
    "#pull the previous close from list\n",
    "prev_close = pd.DataFrame(u[:1])"
   ]
  },
  {
   "cell_type": "code",
   "execution_count": 16,
   "metadata": {},
   "outputs": [
    {
     "name": "stdout",
     "output_type": "stream",
     "text": [
      "Open, -, Volume, -\n",
      "Day Lo, -, Day Hi, -\n",
      "\n",
      "Cheapest\n",
      ", BKLC, 0.00%, \n",
      "$86.2 M\n",
      ", \n",
      "13,942\n",
      ", \n",
      "\n",
      "Largest (AUM)\n",
      ", SPY, 0.09%, \n",
      "$290.7 B\n",
      ", \n",
      "68 M\n",
      ", 5.21%\n",
      "\n",
      "Most Liquid (Volume)\n",
      ", SPY, 0.09%, \n",
      "$290.7 B\n",
      ", \n",
      "68 M\n",
      ", 5.21%\n",
      "\n",
      "Top YTD Performer\n",
      ", ARKW, 0.76%, \n",
      "$2.4 B\n",
      ", \n",
      "743,015\n",
      ", 91.11%\n",
      "AAPL, Apple Inc, 13.33%\n",
      "AMZN, Amazon.com Inc, 10.76%\n",
      "MSFT, Microsoft Corp, 10.71%\n",
      "FB, Facebook Inc, 4.30%\n",
      "GOOGL, Alphabet Inc, 3.45%\n",
      "TSLA, Tesla Inc, 3.40%\n",
      "GOOG, Alphabet Inc, 3.34%\n",
      "NVDA, NVIDIA Corp, 2.84%\n",
      "ADBE, Adobe Inc, 2.04%\n",
      "PYPL, PayPal Holdings Inc, 1.99%\n",
      "INTC, Intel Corp, 1.90%\n",
      "NFLX, Netflix Inc, 1.90%\n",
      "CMCSA, Comcast Corp, 1.83%\n",
      "PEP, PepsiCo Inc, 1.65%\n",
      "CSCO, Cisco Systems Inc, 1.44%\n",
      "Common equity, 99.97%\n",
      "ETF Cash Component, 0.03%\n",
      "Technology, 45.77%\n",
      "Communications, 19.09%\n",
      "Consumer, Cyclical, 18.01%\n",
      "Healthcare, 6.39%\n",
      "Consumer, Non-Cyclical, 4.66%\n",
      "Other, 3.66%\n",
      "Industrials, 1.78%\n",
      "Utilities, 0.61%\n",
      "ETF Cash Component, 0.03%\n",
      "Large cap, 98.21%\n",
      "Mid cap, 1.73%\n",
      "Small cap, 0.03%\n",
      "ETF Cash Component, 0.03%\n",
      "North America, 95.96%\n",
      "Europe, 1.88%\n",
      "Asia, 1.51%\n",
      "Latin America, 0.47%\n",
      "Middle East, 0.15%\n",
      "ETF Cash Component, 0.03%\n",
      "United States, 95.96%\n",
      "Developed Markets (ex-US), 2.03%\n",
      "Emerging Markets, 1.98%\n",
      "ETF Cash Component, 0.03%\n",
      "United States, 95.96%\n",
      "China, 1.51%\n",
      "Germany, 1.22%\n",
      "Netherlands, 0.55%\n",
      "Argentina, 0.47%\n",
      "Israel, 0.15%\n",
      "United Kingdom, 0.11%\n",
      "ETF Cash Component, 0.03%\n",
      "Common equity, 99.97%\n",
      "ETF Cash Component, 0.03%\n"
     ]
    }
   ],
   "source": [
    "# Search for ETF list data\n",
    "data1=[]\n",
    "for row in soup1.select('tbody tr'):\n",
    "    row_text = [x.text for x in row.find_all('td')]\n",
    "    data1.append((row_text))\n",
    "    print(', '.join(row_text))"
   ]
  },
  {
   "cell_type": "code",
   "execution_count": 17,
   "metadata": {},
   "outputs": [
    {
     "name": "stdout",
     "output_type": "stream",
     "text": [
      "Open, -, Volume, -\n",
      "Day Lo, -, Day Hi, -\n",
      "\n",
      "Cheapest\n",
      ", VGT, 0.10%, \n",
      "$36.3 B\n",
      ", \n",
      "825,426\n",
      ", 26.92%\n",
      "\n",
      "Largest (AUM)\n",
      ", VGT, 0.10%, \n",
      "$36.3 B\n",
      ", \n",
      "825,426\n",
      ", 26.92%\n",
      "\n",
      "Most Liquid (Volume)\n",
      ", XLK, 0.13%, \n",
      "$33.7 B\n",
      ", \n",
      "11 M\n",
      ", 26.66%\n",
      "\n",
      "Top YTD Performer\n",
      ", CLOU, 0.68%, \n",
      "$1.2 B\n",
      ", \n",
      "1 M\n",
      ", 54.44%\n",
      "AAPL, Apple Inc, 21.76%\n",
      "MSFT, Microsoft Corp, 16.43%\n",
      "V, Visa Inc, 3.70%\n",
      "NVDA, NVIDIA Corp, 3.58%\n",
      "MA, Mastercard Inc, 3.31%\n",
      "ADBE, Adobe Inc, 2.59%\n",
      "CRM, Salesforce.Com Inc, 2.45%\n",
      "PYPL, PayPal Holdings Inc, 2.38%\n",
      "INTC, Intel Corp, 2.38%\n",
      "CSCO, Cisco Systems Inc, 1.81%\n",
      "AVGO, Broadcom Inc, 1.60%\n",
      "ACN, Accenture PLC, 1.57%\n",
      "QCOM, Qualcomm Inc, 1.45%\n",
      "TXN, Texas Instruments Inc, 1.43%\n",
      "ORCL, Oracle Corp, 1.34%\n",
      "Common equity, 99.74%\n",
      "ETF Cash Component, 0.26%\n",
      "Technology, 94.95%\n",
      "Other, 4.67%\n",
      "ETF Cash Component, 0.26%\n",
      "Industrials, 0.12%\n",
      "Communications, 0.01%\n",
      "Large cap, 87.56%\n",
      "Mid cap, 7.81%\n",
      "Small cap, 3.28%\n",
      "Micro cap, 1.08%\n",
      "ETF Cash Component, 0.26%\n",
      "North America, 96.72%\n",
      "Europe, 2.76%\n",
      "ETF Cash Component, 0.26%\n",
      "Middle East, 0.13%\n",
      "Asia-Pacific, 0.08%\n",
      "Asia, 0.03%\n",
      "Latin America, 0.02%\n",
      "United States, 96.71%\n",
      "Developed Markets (ex-US), 2.98%\n",
      "ETF Cash Component, 0.26%\n",
      "Emerging Markets, 0.03%\n",
      "Not-designated, 0.02%\n",
      "United States, 96.71%\n",
      "Ireland, 1.7%\n",
      "Netherlands, 0.38%\n",
      "Switzerland, 0.35%\n",
      "United Kingdom, 0.32%\n",
      "ETF Cash Component, 0.26%\n",
      "Israel, 0.13%\n",
      "Singapore, 0.08%\n",
      "Thailand, 0.03%\n",
      "Puerto Rico, 0.02%\n",
      "France, 0.01%\n",
      "Canada, 0.01%\n",
      "Luxembourg, 0.0%\n",
      "Common equity, 99.74%\n",
      "ETF Cash Component, 0.26%\n"
     ]
    }
   ],
   "source": [
    "# Search for ETF list data\n",
    "data2=[]\n",
    "for row in soup2.select('tbody tr'):\n",
    "    row_text2 = [x.text for x in row.find_all('td')]\n",
    "    data2.append((row_text2))\n",
    "    print(', '.join(row_text2))"
   ]
  },
  {
   "cell_type": "code",
   "execution_count": 18,
   "metadata": {},
   "outputs": [
    {
     "name": "stdout",
     "output_type": "stream",
     "text": [
      "Open, -, Volume, -\n",
      "Day Lo, -, Day Hi, -\n",
      "\n",
      "Cheapest\n",
      ", BKLC, 0.00%, \n",
      "$86.2 M\n",
      ", \n",
      "13,942\n",
      ", \n",
      "\n",
      "Largest (AUM)\n",
      ", IVV, 0.04%, \n",
      "$213.0 B\n",
      ", \n",
      "3 M\n",
      ", 5.21%\n",
      "\n",
      "Most Liquid (Volume)\n",
      ", QQQ, 0.20%, \n",
      "$133.5 B\n",
      ", \n",
      "46 M\n",
      ", 29.71%\n",
      "\n",
      "Top YTD Performer\n",
      ", ARKW, 0.76%, \n",
      "$2.4 B\n",
      ", \n",
      "743,015\n",
      ", 91.11%\n",
      "AAPL, Apple Inc, 6.63%\n",
      "MSFT, Microsoft Corp, 5.67%\n",
      "AMZN, Amazon.com Inc, 4.84%\n",
      "FB, Facebook Inc, 2.28%\n",
      "GOOGL, Alphabet Inc, 1.60%\n",
      "GOOG, Alphabet Inc, 1.56%\n",
      "BRK.B, Berkshire Hathaway Inc, 1.51%\n",
      "JNJ, Johnson & Johnson, 1.40%\n",
      "PG, Procter & Gamble Co, 1.24%\n",
      "V, Visa Inc, 1.22%\n",
      "NVDA, NVIDIA Corp, 1.18%\n",
      "MA, Mastercard Inc, 1.07%\n",
      "HD, Home Depot Inc, 1.06%\n",
      "JPM, JPMorgan Chase & Co, 1.05%\n",
      "UNH, UnitedHealth Group Inc, 1.04%\n",
      "Common equity, 99.97%\n",
      "ETF Cash Component, 0.03%\n",
      "Technology, 27.53%\n",
      "Healthcare, 13.83%\n",
      "Consumer, Cyclical, 11.32%\n",
      "Communications, 10.77%\n",
      "Financials, 9.24%\n",
      "Industrials, 7.56%\n",
      "Consumer, Non-Cyclical, 6.99%\n",
      "Other, 3.39%\n",
      "Utilities, 2.92%\n",
      "Real Estate, 2.58%\n",
      "Energy, 2.08%\n",
      "Basic Materials, 1.76%\n",
      "ETF Cash Component, 0.03%\n",
      "Large cap, 90.8%\n",
      "Mid cap, 8.48%\n",
      "Small cap, 0.7%\n",
      "ETF Cash Component, 0.03%\n",
      "North America, 97.9%\n",
      "Europe, 2.07%\n",
      "ETF Cash Component, 0.03%\n",
      "United States, 97.89%\n",
      "Developed Markets (ex-US), 2.08%\n",
      "ETF Cash Component, 0.03%\n",
      "United States, 97.89%\n",
      "United Kingdom, 0.91%\n",
      "Ireland, 0.76%\n",
      "Germany, 0.24%\n",
      "Switzerland, 0.17%\n",
      "ETF Cash Component, 0.03%\n",
      "Canada, 0.01%\n",
      "Common equity, 99.97%\n",
      "ETF Cash Component, 0.03%\n"
     ]
    }
   ],
   "source": [
    "# Search for ETF list data\n",
    "data3=[]\n",
    "for row in soup3.select('tbody tr'):\n",
    "    row_text3 = [x.text for x in row.find_all('td')]\n",
    "    data3.append((row_text3))\n",
    "    print(', '.join(row_text3))"
   ]
  },
  {
   "cell_type": "markdown",
   "metadata": {},
   "source": [
    "\n",
    "\n",
    "\n",
    "# Clean up data"
   ]
  },
  {
   "cell_type": "code",
   "execution_count": 19,
   "metadata": {},
   "outputs": [],
   "source": [
    "#SELECT ONLY STOCK INFO FROM 'DATA' parse through\n",
    "#TODO: ITERATE THROUGH KEYS RATHER THAN STATIC POSITIONS\n",
    "stock_list1 = data1[6:21]\n",
    "stock_list2 = data2[6:21]\n",
    "stock_list3 = data3[6:21]"
   ]
  },
  {
   "cell_type": "code",
   "execution_count": 20,
   "metadata": {},
   "outputs": [],
   "source": [
    "stock_list_df1 = pd.DataFrame(stock_list1)\n",
    "stock_list_df2 = pd.DataFrame(stock_list2)\n",
    "stock_list_df3 = pd.DataFrame(stock_list3)\n"
   ]
  },
  {
   "cell_type": "code",
   "execution_count": 21,
   "metadata": {},
   "outputs": [
    {
     "data": {
      "text/html": [
       "<div>\n",
       "<style scoped>\n",
       "    .dataframe tbody tr th:only-of-type {\n",
       "        vertical-align: middle;\n",
       "    }\n",
       "\n",
       "    .dataframe tbody tr th {\n",
       "        vertical-align: top;\n",
       "    }\n",
       "\n",
       "    .dataframe thead th {\n",
       "        text-align: right;\n",
       "    }\n",
       "</style>\n",
       "<table border=\"1\" class=\"dataframe\">\n",
       "  <thead>\n",
       "    <tr style=\"text-align: right;\">\n",
       "      <th></th>\n",
       "      <th>Ticker</th>\n",
       "      <th>Name</th>\n",
       "      <th>Allocation</th>\n",
       "    </tr>\n",
       "  </thead>\n",
       "  <tbody>\n",
       "    <tr>\n",
       "      <th>0</th>\n",
       "      <td>AAPL</td>\n",
       "      <td>Apple Inc</td>\n",
       "      <td>6.63%</td>\n",
       "    </tr>\n",
       "    <tr>\n",
       "      <th>1</th>\n",
       "      <td>MSFT</td>\n",
       "      <td>Microsoft Corp</td>\n",
       "      <td>5.67%</td>\n",
       "    </tr>\n",
       "    <tr>\n",
       "      <th>2</th>\n",
       "      <td>AMZN</td>\n",
       "      <td>Amazon.com Inc</td>\n",
       "      <td>4.84%</td>\n",
       "    </tr>\n",
       "    <tr>\n",
       "      <th>3</th>\n",
       "      <td>FB</td>\n",
       "      <td>Facebook Inc</td>\n",
       "      <td>2.28%</td>\n",
       "    </tr>\n",
       "    <tr>\n",
       "      <th>4</th>\n",
       "      <td>GOOGL</td>\n",
       "      <td>Alphabet Inc</td>\n",
       "      <td>1.60%</td>\n",
       "    </tr>\n",
       "  </tbody>\n",
       "</table>\n",
       "</div>"
      ],
      "text/plain": [
       "  Ticker            Name Allocation\n",
       "0   AAPL       Apple Inc      6.63%\n",
       "1   MSFT  Microsoft Corp      5.67%\n",
       "2   AMZN  Amazon.com Inc      4.84%\n",
       "3     FB    Facebook Inc      2.28%\n",
       "4  GOOGL    Alphabet Inc      1.60%"
      ]
     },
     "execution_count": 21,
     "metadata": {},
     "output_type": "execute_result"
    }
   ],
   "source": [
    " # Rewrite the column names\n",
    "columns = [\"Ticker\", \"Name\",\"Allocation\"]\n",
    "stock_list_df1.columns = columns\n",
    "stock_list_df1.head() \n",
    "\n",
    "\n",
    "stock_list_df2.columns = columns\n",
    "stock_list_df2.head() \n",
    "\n",
    "\n",
    "stock_list_df3.columns = columns\n",
    "stock_list_df3.head() \n",
    "\n"
   ]
  },
  {
   "cell_type": "code",
   "execution_count": 22,
   "metadata": {},
   "outputs": [],
   "source": [
    "#try concat, then search\n",
    "\n",
    "stock_df = pd.concat([stock_list_df1, stock_list_df2, stock_list_df3])"
   ]
  },
  {
   "cell_type": "code",
   "execution_count": 23,
   "metadata": {},
   "outputs": [],
   "source": [
    "stock_df['Allocation'] = stock_df['Allocation'].str.replace(',', '')\n",
    "stock_df['Allocation'] = stock_df['Allocation'].str.replace('%', '')\n",
    "stock_df['Allocation'] = stock_df['Allocation'].astype(float).div(100)"
   ]
  },
  {
   "cell_type": "code",
   "execution_count": 24,
   "metadata": {},
   "outputs": [
    {
     "data": {
      "text/html": [
       "<div>\n",
       "<style scoped>\n",
       "    .dataframe tbody tr th:only-of-type {\n",
       "        vertical-align: middle;\n",
       "    }\n",
       "\n",
       "    .dataframe tbody tr th {\n",
       "        vertical-align: top;\n",
       "    }\n",
       "\n",
       "    .dataframe thead th {\n",
       "        text-align: right;\n",
       "    }\n",
       "</style>\n",
       "<table border=\"1\" class=\"dataframe\">\n",
       "  <thead>\n",
       "    <tr style=\"text-align: right;\">\n",
       "      <th></th>\n",
       "      <th>Ticker</th>\n",
       "      <th>Name</th>\n",
       "      <th>Allocation</th>\n",
       "    </tr>\n",
       "  </thead>\n",
       "  <tbody>\n",
       "    <tr>\n",
       "      <th>0</th>\n",
       "      <td>AAPL</td>\n",
       "      <td>Apple Inc</td>\n",
       "      <td>13.33</td>\n",
       "    </tr>\n",
       "    <tr>\n",
       "      <th>1</th>\n",
       "      <td>AMZN</td>\n",
       "      <td>Amazon.com Inc</td>\n",
       "      <td>10.76</td>\n",
       "    </tr>\n",
       "    <tr>\n",
       "      <th>2</th>\n",
       "      <td>MSFT</td>\n",
       "      <td>Microsoft Corp</td>\n",
       "      <td>10.71</td>\n",
       "    </tr>\n",
       "    <tr>\n",
       "      <th>3</th>\n",
       "      <td>FB</td>\n",
       "      <td>Facebook Inc</td>\n",
       "      <td>4.30</td>\n",
       "    </tr>\n",
       "    <tr>\n",
       "      <th>4</th>\n",
       "      <td>GOOGL</td>\n",
       "      <td>Alphabet Inc</td>\n",
       "      <td>3.45</td>\n",
       "    </tr>\n",
       "  </tbody>\n",
       "</table>\n",
       "</div>"
      ],
      "text/plain": [
       "  Ticker            Name  Allocation\n",
       "0   AAPL       Apple Inc       13.33\n",
       "1   AMZN  Amazon.com Inc       10.76\n",
       "2   MSFT  Microsoft Corp       10.71\n",
       "3     FB    Facebook Inc        4.30\n",
       "4  GOOGL    Alphabet Inc        3.45"
      ]
     },
     "execution_count": 24,
     "metadata": {},
     "output_type": "execute_result"
    }
   ],
   "source": [
    "stock_df.head()\n"
   ]
  },
  {
   "cell_type": "code",
   "execution_count": 25,
   "metadata": {},
   "outputs": [],
   "source": [
    "# stock_df.Allocation = stock_df.Allocation.astype(float)\n",
    "\n",
    "# stock_df['Allocation'] = stock_df['Allocation'].div(100)"
   ]
  },
  {
   "cell_type": "code",
   "execution_count": 26,
   "metadata": {},
   "outputs": [
    {
     "ename": "NameError",
     "evalue": "name 'etf_amount' is not defined",
     "output_type": "error",
     "traceback": [
      "\u001b[1;31m---------------------------------------------------------------------------\u001b[0m",
      "\u001b[1;31mNameError\u001b[0m                                 Traceback (most recent call last)",
      "\u001b[1;32m<ipython-input-26-d5e50bb33b51>\u001b[0m in \u001b[0;36m<module>\u001b[1;34m\u001b[0m\n\u001b[1;32m----> 1\u001b[1;33m \u001b[0mstock_df\u001b[0m\u001b[1;33m[\u001b[0m\u001b[1;34m'dollar'\u001b[0m\u001b[1;33m]\u001b[0m \u001b[1;33m=\u001b[0m \u001b[0mstock_df\u001b[0m\u001b[1;33m.\u001b[0m\u001b[0mAllocation\u001b[0m \u001b[1;33m*\u001b[0m \u001b[0metf_amount\u001b[0m\u001b[1;33m\u001b[0m\u001b[1;33m\u001b[0m\u001b[0m\n\u001b[0m",
      "\u001b[1;31mNameError\u001b[0m: name 'etf_amount' is not defined"
     ]
    }
   ],
   "source": [
    "stock_df['dollar'] = stock_df.Allocation * etf_sut\n"
   ]
  },
  {
   "cell_type": "code",
   "execution_count": null,
   "metadata": {},
   "outputs": [],
   "source": [
    "stock_df.head()"
   ]
  },
  {
   "cell_type": "code",
   "execution_count": null,
   "metadata": {},
   "outputs": [],
   "source": [
    "#Search user input through various stocks\n",
    "\n",
    "search_stock = stock_df.loc[stock_df['Ticker'] == stocks_of_interest]\n",
    "search_stock"
   ]
  },
  {
   "cell_type": "code",
   "execution_count": null,
   "metadata": {},
   "outputs": [],
   "source": [
    "stock_search_price = prev_close['Previous Close'].astype(float)\n",
    "\n",
    "stock_search_price"
   ]
  },
  {
   "cell_type": "code",
   "execution_count": null,
   "metadata": {},
   "outputs": [],
   "source": [
    "etf_stock_price = search_stock['dollar']"
   ]
  },
  {
   "cell_type": "markdown",
   "metadata": {},
   "source": [
    "# Craete output"
   ]
  },
  {
   "cell_type": "code",
   "execution_count": null,
   "metadata": {},
   "outputs": [],
   "source": [
    "user_stock = etf_stock_price / stock_search_price"
   ]
  },
  {
   "cell_type": "code",
   "execution_count": null,
   "metadata": {},
   "outputs": [],
   "source": [
    "user_stock"
   ]
  },
  {
   "cell_type": "markdown",
   "metadata": {},
   "source": [
    "# TESTING"
   ]
  },
  {
   "cell_type": "code",
   "execution_count": null,
   "metadata": {},
   "outputs": [],
   "source": [
    "data[:20]"
   ]
  },
  {
   "cell_type": "code",
   "execution_count": null,
   "metadata": {},
   "outputs": [],
   "source": [
    "def get_stock(item, stonk):\n",
    "    if item[0] == stonk:\n",
    "        return item"
   ]
  },
  {
   "cell_type": "code",
   "execution_count": null,
   "metadata": {},
   "outputs": [],
   "source": []
  },
  {
   "cell_type": "code",
   "execution_count": null,
   "metadata": {},
   "outputs": [],
   "source": [
    "for index, item in enumerate(data):\n",
    "    my_answer = get_stock(item, stocks_of_interest)\n",
    "    if my_answer != None:\n",
    "        good_answer = my_answer"
   ]
  },
  {
   "cell_type": "code",
   "execution_count": null,
   "metadata": {},
   "outputs": [],
   "source": [
    "# (lambda x: x[:-1]"
   ]
  },
  {
   "cell_type": "code",
   "execution_count": null,
   "metadata": {},
   "outputs": [],
   "source": [
    "good_answer = good_answer[-1]\n",
    "good_answer"
   ]
  },
  {
   "cell_type": "code",
   "execution_count": null,
   "metadata": {},
   "outputs": [],
   "source": [
    "good_answer[:-1]"
   ]
  },
  {
   "cell_type": "code",
   "execution_count": null,
   "metadata": {},
   "outputs": [],
   "source": []
  }
 ],
 "metadata": {
  "kernelspec": {
   "display_name": "Python 3",
   "language": "python",
   "name": "python3"
  },
  "language_info": {
   "codemirror_mode": {
    "name": "ipython",
    "version": 3
   },
   "file_extension": ".py",
   "mimetype": "text/x-python",
   "name": "python",
   "nbconvert_exporter": "python",
   "pygments_lexer": "ipython3",
   "version": "3.8.3"
  }
 },
 "nbformat": 4,
 "nbformat_minor": 4
}
