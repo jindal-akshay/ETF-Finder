{
 "cells": [
  {
   "cell_type": "markdown",
   "metadata": {},
   "source": [
    "## Import libraries"
   ]
  },
  {
   "cell_type": "code",
   "execution_count": 1,
   "metadata": {},
   "outputs": [],
   "source": [
    "#THINGS TO DO\n",
    "\n",
    "# HOW THE FUCK DO WE GET MULTIPLE USER INPUT \n",
    "# - create 10 empty url searches? (That can be the cap)\n",
    "# - Store 10 empty etf dollar amounts"
   ]
  },
  {
   "cell_type": "code",
   "execution_count": 2,
   "metadata": {},
   "outputs": [],
   "source": [
    "\n",
    "\n",
    "import numpy as np\n",
    "import pandas as pd\n",
    "import requests\n",
    "from bs4 import BeautifulSoup as bs\n",
    "from pathlib import Path\n"
   ]
  },
  {
   "cell_type": "markdown",
   "metadata": {},
   "source": [
    "# Define Functions"
   ]
  },
  {
   "cell_type": "code",
   "execution_count": null,
   "metadata": {},
   "outputs": [],
   "source": []
  },
  {
   "cell_type": "code",
   "execution_count": 3,
   "metadata": {},
   "outputs": [
    {
     "name": "stdin",
     "output_type": "stream",
     "text": [
      "Input Stock of Interest:  AAPL\n"
     ]
    }
   ],
   "source": [
    "# Function for user stock of choice\n",
    "def user_stock_choice(stock_of_interest):  \n",
    "    return stocks\n",
    "\n",
    "# Function for etf dollar amount\n",
    "def etf_values(etf_amount):\n",
    "    \n",
    "    etf_amount = []\n",
    "        \n",
    "    return etf_dollar\n",
    "\n",
    "# Function for the ETF of choice\n",
    "\n",
    "def etf_selection(etfs):\n",
    "    etfs = []\n",
    "\n",
    "# etfs = str( input(\"Input your ETF of Interest: \") )\n",
    "# etf_amount = int( input(\"Input how much money invested in ETF: \") )\n",
    "stocks_of_interest = str( input(\"Input Stock of Interest: \") )\n",
    "\n",
    "\n",
    "# etf_selection(etfs)\n",
    "\n",
    "# Function to calculate output\n",
    "\n",
    "# def calc_output(etfs,stock_of_interest,result_am):\n",
    "   \n",
    "#     results_am = etfs * etfs_value\n",
    "    \n",
    "\n",
    "#     return calc\n",
    "\n",
    "\n",
    "\n"
   ]
  },
  {
   "cell_type": "code",
   "execution_count": 4,
   "metadata": {},
   "outputs": [
    {
     "name": "stdin",
     "output_type": "stream",
     "text": [
      "Enter the ETFS of interest:  QQQ SPY FTEC\n"
     ]
    },
    {
     "name": "stdout",
     "output_type": "stream",
     "text": [
      "The ETFS you selected are:  ['QQQ', 'SPY', 'FTEC']\n"
     ]
    }
   ],
   "source": [
    "# taking multiple inputs at a time  \n",
    "etf1 = [str(etf1) for etf1 in input(\"Enter the ETFS of interest: \").split()] \n",
    "print(\"The ETFS you selected are: \", etf1) "
   ]
  },
  {
   "cell_type": "code",
   "execution_count": null,
   "metadata": {},
   "outputs": [],
   "source": [
    "etf1[0]"
   ]
  },
  {
   "cell_type": "code",
   "execution_count": 5,
   "metadata": {},
   "outputs": [],
   "source": [
    "  \n",
    "base_url = 'https://etfdb.com/etf'\n",
    "function = '#holdings'\n",
    "# etf_selec = etfs"
   ]
  },
  {
   "cell_type": "code",
   "execution_count": 6,
   "metadata": {},
   "outputs": [],
   "source": [
    "batch_size = 3\n",
    "urllist = [f'{base_url}/{etf1[0]}/{function}', f'{base_url}/{etf1[1]}/{function}', f'{base_url}/{etf1[2]}/{function}']\n",
    "url_chunks = [urllist[x:x+batch_size] for x in range(0, len(urllist), batch_size)]\n",
    "\n",
    "# def scrape_url(urllist):\n",
    "#     response = requests.get(urllist)\n",
    "#     soup = bs(response.content, \"html.parser\")\n",
    "#     h1 = soup.find(\"h1\", class_= \"class-headline\")\n",
    "#     return (h1.get_text())\n",
    "\n",
    "# def scrape_batch(url_chunks):\n",
    "#     chunk_resp = []\n",
    "#     for urllist in url_chunks:\n",
    "#         chunk_resp.append(scrape_url(urllist))\n",
    "#     return chunk_resp\n",
    "\n",
    "#     for url_chunks in url_chunks:\n",
    "#         print(scrape_batch(url_chunks))"
   ]
  },
  {
   "cell_type": "code",
   "execution_count": 7,
   "metadata": {},
   "outputs": [
    {
     "name": "stdout",
     "output_type": "stream",
     "text": [
      "['https://etfdb.com/etf/QQQ/#holdings', 'https://etfdb.com/etf/SPY/#holdings', 'https://etfdb.com/etf/FTEC/#holdings']\n"
     ]
    }
   ],
   "source": [
    "print((urllist))"
   ]
  },
  {
   "cell_type": "code",
   "execution_count": 8,
   "metadata": {},
   "outputs": [
    {
     "ename": "NameError",
     "evalue": "name 'fruit' is not defined",
     "output_type": "error",
     "traceback": [
      "\u001b[1;31m---------------------------------------------------------------------------\u001b[0m",
      "\u001b[1;31mNameError\u001b[0m                                 Traceback (most recent call last)",
      "\u001b[1;32m<ipython-input-8-0b1d9c7d424e>\u001b[0m in \u001b[0;36m<module>\u001b[1;34m\u001b[0m\n\u001b[0;32m      1\u001b[0m \u001b[0mnew_list\u001b[0m \u001b[1;33m=\u001b[0m \u001b[1;33m[\u001b[0m\u001b[1;33m]\u001b[0m\u001b[1;33m\u001b[0m\u001b[1;33m\u001b[0m\u001b[0m\n\u001b[0;32m      2\u001b[0m \u001b[1;32mfor\u001b[0m \u001b[0mx\u001b[0m \u001b[1;32min\u001b[0m \u001b[0murl_chunks\u001b[0m\u001b[1;33m:\u001b[0m\u001b[1;33m\u001b[0m\u001b[1;33m\u001b[0m\u001b[0m\n\u001b[1;32m----> 3\u001b[1;33m     \u001b[1;32mif\u001b[0m \u001b[0mfruit\u001b[0m \u001b[1;32mnot\u001b[0m \u001b[1;32min\u001b[0m \u001b[0mb\u001b[0m\u001b[1;33m:\u001b[0m\u001b[1;33m\u001b[0m\u001b[1;33m\u001b[0m\u001b[0m\n\u001b[0m\u001b[0;32m      4\u001b[0m         \u001b[0mnew_list\u001b[0m\u001b[1;33m.\u001b[0m\u001b[0mappend\u001b[0m\u001b[1;33m(\u001b[0m\u001b[0mfruit\u001b[0m\u001b[1;33m)\u001b[0m\u001b[1;33m\u001b[0m\u001b[1;33m\u001b[0m\u001b[0m\n",
      "\u001b[1;31mNameError\u001b[0m: name 'fruit' is not defined"
     ]
    }
   ],
   "source": [
    "new_list = []\n",
    "for x in url_chunks:\n",
    "    if fruit not in b:\n",
    "        new_list.append(fruit)"
   ]
  },
  {
   "cell_type": "markdown",
   "metadata": {},
   "source": [
    "# Scrape for Data"
   ]
  },
  {
   "cell_type": "code",
   "execution_count": 10,
   "metadata": {},
   "outputs": [],
   "source": [
    "# Access The ETFDB website \n",
    "\n",
    "# # TODO: Have multiple ETF Selections\n",
    "\n",
    "\n",
    "    \n",
    "# base_url = 'https://etfdb.com/etf'\n",
    "# function = '#holdings'\n",
    "# etf_selec = etfs\n",
    "    \n",
    "\n",
    "response1 = requests.get(urllist[0]) .text\n",
    "response2 = requests.get(urllist[1]) .text\n",
    "response3 = requests.get(urllist[2]) .text\n",
    "\n",
    "soup1 = bs(response1, 'lxml')\n",
    "soup2 = bs(response2, 'lxml')\n",
    "soup3 = bs(response3, 'lxml')\n"
   ]
  },
  {
   "cell_type": "code",
   "execution_count": 11,
   "metadata": {},
   "outputs": [],
   "source": [
    "# Access the Yahoo Finance website\n",
    "\n",
    "base = 'https://finance.yahoo.com/quote/'\n",
    "\n",
    "response_stock = requests.get(f'{base}{stocks_of_interest}?p={stocks_of_interest}&.tsrc=fin-srch%27') .text\n",
    "\n",
    "soup_stock = bs(response_stock,\"html.parser\")"
   ]
  },
  {
   "cell_type": "code",
   "execution_count": 12,
   "metadata": {},
   "outputs": [],
   "source": [
    "#Establish frame of searches\n",
    "#Lists to store \n",
    "# Part of page\n",
    "l={}\n",
    "u=list()\n",
    "alldata = soup_stock.find_all('tbody')"
   ]
  },
  {
   "cell_type": "markdown",
   "metadata": {},
   "source": [
    "alldataint out table of search"
   ]
  },
  {
   "cell_type": "code",
   "execution_count": 13,
   "metadata": {},
   "outputs": [],
   "source": [
    "\n",
    "try:\n",
    " table1 = alldata[0].find_all(\"tr\")\n",
    "except:\n",
    " table1=None\n",
    "try:\n",
    " table2 = alldata[1].find_all(\"tr\")\n",
    "except:\n",
    " table2 = None"
   ]
  },
  {
   "cell_type": "code",
   "execution_count": 14,
   "metadata": {},
   "outputs": [],
   "source": [
    "for i in range(0,len(table1)):\n",
    " try:\n",
    "   table1_td = table1[i].find_all(\"td\")\n",
    " except:\n",
    "   table1_td = None\n",
    " l[table1_td[0].text] = table1_td[1].text\n",
    " u.append(l)\n",
    " l={}"
   ]
  },
  {
   "cell_type": "code",
   "execution_count": 15,
   "metadata": {},
   "outputs": [],
   "source": [
    "for i in range(0,len(table2)):\n",
    " try:\n",
    "   table2_td = table2[i].find_all('td')\n",
    " except:\n",
    "   table2_td = None\n",
    " l[table2_td[0].text] = table2_td[1].text\n",
    " u.append(l)\n",
    " l={}"
   ]
  },
  {
   "cell_type": "code",
   "execution_count": 16,
   "metadata": {},
   "outputs": [],
   "source": [
    "#pull the previous close from list\n",
    "prev_close = pd.DataFrame(u[:1])"
   ]
  },
  {
   "cell_type": "code",
   "execution_count": 19,
   "metadata": {},
   "outputs": [
    {
     "name": "stdout",
     "output_type": "stream",
     "text": [
      "Open, -, Volume, -\n",
      "Day Lo, -, Day Hi, -\n",
      "\n",
      "Cheapest\n",
      ", BKLC, 0.00%, \n",
      "$80.1 M\n",
      ", \n",
      "13,947\n",
      ", \n",
      "\n",
      "Largest (AUM)\n",
      ", SPY, 0.09%, \n",
      "$290.1 B\n",
      ", \n",
      "68 M\n",
      ", 4.75%\n",
      "\n",
      "Most Liquid (Volume)\n",
      ", SPY, 0.09%, \n",
      "$290.1 B\n",
      ", \n",
      "68 M\n",
      ", 4.75%\n",
      "\n",
      "Top YTD Performer\n",
      ", ARKW, 0.76%, \n",
      "$2.4 B\n",
      ", \n",
      "750,051\n",
      ", 87.86%\n",
      "AAPL, Apple Inc, 13.38%\n",
      "AMZN, Amazon.com Inc, 10.82%\n",
      "MSFT, Microsoft Corp, 10.79%\n",
      "FB, Facebook Inc, 4.20%\n",
      "GOOGL, Alphabet Inc, 3.42%\n",
      "TSLA, Tesla Inc, 3.41%\n",
      "GOOG, Alphabet Inc, 3.32%\n",
      "NVDA, NVIDIA Corp, 2.79%\n",
      "ADBE, Adobe Inc, 2.03%\n",
      "PYPL, PayPal Holdings Inc, 1.96%\n",
      "INTC, Intel Corp, 1.90%\n",
      "NFLX, Netflix Inc, 1.88%\n",
      "CMCSA, Comcast Corp, 1.85%\n",
      "PEP, PepsiCo Inc, 1.66%\n",
      "CSCO, Cisco Systems Inc, 1.43%\n",
      "Common equity, 99.97%\n",
      "ETF Cash Component, 0.03%\n",
      "Technology, 45.74%\n",
      "Communications, 18.97%\n",
      "Consumer, Cyclical, 18.11%\n",
      "Healthcare, 6.37%\n",
      "Consumer, Non-Cyclical, 4.66%\n",
      "Other, 3.71%\n",
      "Industrials, 1.79%\n",
      "Utilities, 0.62%\n",
      "ETF Cash Component, 0.03%\n",
      "Large cap, 98.2%\n",
      "Mid cap, 1.74%\n",
      "Small cap, 0.03%\n",
      "ETF Cash Component, 0.03%\n",
      "North America, 95.94%\n",
      "Europe, 1.88%\n",
      "Asia, 1.54%\n",
      "Latin America, 0.47%\n",
      "Middle East, 0.15%\n",
      "ETF Cash Component, 0.03%\n",
      "United States, 95.94%\n",
      "Developed Markets (ex-US), 2.03%\n",
      "Emerging Markets, 2.01%\n",
      "ETF Cash Component, 0.03%\n",
      "United States, 95.94%\n",
      "China, 1.54%\n",
      "Germany, 1.23%\n",
      "Netherlands, 0.55%\n",
      "Argentina, 0.47%\n",
      "Israel, 0.15%\n",
      "United Kingdom, 0.11%\n",
      "ETF Cash Component, 0.03%\n",
      "Common equity, 99.97%\n",
      "ETF Cash Component, 0.03%\n"
     ]
    }
   ],
   "source": [
    "# Search for ETF list data\n",
    "data1=[]\n",
    "for row in soup1.select('tbody tr'):\n",
    "    row_text = [x.text for x in row.find_all('td')]\n",
    "    data1.append((row_text))\n",
    "    print(', '.join(row_text))"
   ]
  },
  {
   "cell_type": "code",
   "execution_count": 20,
   "metadata": {},
   "outputs": [
    {
     "name": "stdout",
     "output_type": "stream",
     "text": [
      "Open, -, Volume, -\n",
      "Day Lo, -, Day Hi, -\n",
      "\n",
      "Cheapest\n",
      ", BKLC, 0.00%, \n",
      "$80.1 M\n",
      ", \n",
      "13,947\n",
      ", \n",
      "\n",
      "Largest (AUM)\n",
      ", IVV, 0.04%, \n",
      "$214.1 B\n",
      ", \n",
      "3 M\n",
      ", 4.73%\n",
      "\n",
      "Most Liquid (Volume)\n",
      ", QQQ, 0.20%, \n",
      "$137.2 B\n",
      ", \n",
      "45 M\n",
      ", 30.48%\n",
      "\n",
      "Top YTD Performer\n",
      ", ARKW, 0.76%, \n",
      "$2.4 B\n",
      ", \n",
      "750,051\n",
      ", 87.86%\n",
      "AAPL, Apple Inc, 6.65%\n",
      "MSFT, Microsoft Corp, 5.71%\n",
      "AMZN, Amazon.com Inc, 4.87%\n",
      "FB, Facebook Inc, 2.22%\n",
      "GOOGL, Alphabet Inc, 1.58%\n",
      "GOOG, Alphabet Inc, 1.55%\n",
      "BRK.B, Berkshire Hathaway Inc, 1.52%\n",
      "JNJ, Johnson & Johnson, 1.39%\n",
      "PG, Procter & Gamble Co, 1.24%\n",
      "V, Visa Inc, 1.22%\n",
      "NVDA, NVIDIA Corp, 1.16%\n",
      "MA, Mastercard Inc, 1.08%\n",
      "HD, Home Depot Inc, 1.06%\n",
      "JPM, JPMorgan Chase & Co, 1.05%\n",
      "UNH, UnitedHealth Group Inc, 1.04%\n",
      "Common equity, 99.98%\n",
      "ETF Cash Component, 0.02%\n",
      "Technology, 27.48%\n",
      "Healthcare, 13.78%\n",
      "Consumer, Cyclical, 11.36%\n",
      "Communications, 10.68%\n",
      "Financials, 9.31%\n",
      "Industrials, 7.59%\n",
      "Consumer, Non-Cyclical, 7.0%\n",
      "Other, 3.4%\n",
      "Utilities, 2.91%\n",
      "Real Estate, 2.58%\n",
      "Energy, 2.13%\n",
      "Basic Materials, 1.76%\n",
      "ETF Cash Component, 0.02%\n",
      "Large cap, 90.82%\n",
      "Mid cap, 8.54%\n",
      "Small cap, 0.62%\n",
      "ETF Cash Component, 0.02%\n",
      "North America, 97.92%\n",
      "Europe, 2.06%\n",
      "ETF Cash Component, 0.02%\n",
      "United States, 97.91%\n",
      "Developed Markets (ex-US), 2.07%\n",
      "ETF Cash Component, 0.02%\n",
      "United States, 97.91%\n",
      "United Kingdom, 0.91%\n",
      "Ireland, 0.75%\n",
      "Germany, 0.24%\n",
      "Switzerland, 0.17%\n",
      "ETF Cash Component, 0.02%\n",
      "Canada, 0.01%\n",
      "Common equity, 99.98%\n",
      "ETF Cash Component, 0.02%\n"
     ]
    }
   ],
   "source": [
    "# Search for ETF list data\n",
    "data2=[]\n",
    "for row in soup2.select('tbody tr'):\n",
    "    row_text2 = [x.text for x in row.find_all('td')]\n",
    "    data2.append((row_text2))\n",
    "    print(', '.join(row_text2))"
   ]
  },
  {
   "cell_type": "code",
   "execution_count": 21,
   "metadata": {},
   "outputs": [
    {
     "name": "stdout",
     "output_type": "stream",
     "text": [
      "Open, -, Volume, -\n",
      "Day Lo, -, Day Hi, -\n",
      "\n",
      "Cheapest\n",
      ", VGT, 0.10%, \n",
      "$36.4 B\n",
      ", \n",
      "826,840\n",
      ", 27.36%\n",
      "\n",
      "Largest (AUM)\n",
      ", VGT, 0.10%, \n",
      "$36.4 B\n",
      ", \n",
      "826,840\n",
      ", 27.36%\n",
      "\n",
      "Most Liquid (Volume)\n",
      ", XLK, 0.13%, \n",
      "$33.9 B\n",
      ", \n",
      "11 M\n",
      ", 27.53%\n",
      "\n",
      "Top YTD Performer\n",
      ", CLOU, 0.68%, \n",
      "$1.2 B\n",
      ", \n",
      "1 M\n",
      ", 51.33%\n",
      "AAPL, Apple Inc, 21.87%\n",
      "MSFT, Microsoft Corp, 16.56%\n",
      "V, Visa Inc, 3.71%\n",
      "NVDA, NVIDIA Corp, 3.52%\n",
      "MA, Mastercard Inc, 3.32%\n",
      "ADBE, Adobe Inc, 2.58%\n",
      "CRM, Salesforce.Com Inc, 2.43%\n",
      "INTC, Intel Corp, 2.39%\n",
      "PYPL, PayPal Holdings Inc, 2.35%\n",
      "CSCO, Cisco Systems Inc, 1.81%\n",
      "AVGO, Broadcom Inc, 1.61%\n",
      "ACN, Accenture PLC, 1.56%\n",
      "QCOM, Qualcomm Inc, 1.46%\n",
      "TXN, Texas Instruments Inc, 1.43%\n",
      "ORCL, Oracle Corp, 1.34%\n",
      "Common equity, 99.74%\n",
      "ETF Cash Component, 0.26%\n",
      "Technology, 94.91%\n",
      "Other, 4.71%\n",
      "ETF Cash Component, 0.26%\n",
      "Industrials, 0.12%\n",
      "Communications, 0.01%\n",
      "Large cap, 87.62%\n",
      "Mid cap, 7.76%\n",
      "Small cap, 3.28%\n",
      "Micro cap, 1.08%\n",
      "ETF Cash Component, 0.26%\n",
      "North America, 96.75%\n",
      "Europe, 2.75%\n",
      "ETF Cash Component, 0.26%\n",
      "Middle East, 0.12%\n",
      "Asia-Pacific, 0.08%\n",
      "Asia, 0.03%\n",
      "Latin America, 0.02%\n",
      "United States, 96.74%\n",
      "Developed Markets (ex-US), 2.95%\n",
      "ETF Cash Component, 0.26%\n",
      "Emerging Markets, 0.03%\n",
      "Not-designated, 0.02%\n",
      "United States, 96.74%\n",
      "Ireland, 1.68%\n",
      "Netherlands, 0.38%\n",
      "Switzerland, 0.35%\n",
      "United Kingdom, 0.32%\n",
      "ETF Cash Component, 0.26%\n",
      "Israel, 0.12%\n",
      "Singapore, 0.08%\n",
      "Thailand, 0.03%\n",
      "Puerto Rico, 0.02%\n",
      "France, 0.01%\n",
      "Canada, 0.01%\n",
      "Luxembourg, 0.0%\n",
      "Common equity, 99.74%\n",
      "ETF Cash Component, 0.26%\n"
     ]
    }
   ],
   "source": [
    "# Search for ETF list data\n",
    "data3=[]\n",
    "for row in soup3.select('tbody tr'):\n",
    "    row_text3 = [x.text for x in row.find_all('td')]\n",
    "    data3.append((row_text3))\n",
    "    print(', '.join(row_text3))"
   ]
  },
  {
   "cell_type": "markdown",
   "metadata": {},
   "source": [
    "# Clean up data"
   ]
  },
  {
   "cell_type": "code",
   "execution_count": 28,
   "metadata": {},
   "outputs": [],
   "source": [
    "#SELECT ONLY STOCK INFO FROM 'DATA' parse through\n",
    "#TODO: ITERATE THROUGH KEYS RATHER THAN STATIC POSITIONS\n",
    "stock_list = data1[6:21]"
   ]
  },
  {
   "cell_type": "code",
   "execution_count": 31,
   "metadata": {},
   "outputs": [],
   "source": [
    "compact_list = [(data1[6:21]),(data2[6:21]),(data3[6:21])]"
   ]
  },
  {
   "cell_type": "code",
   "execution_count": 29,
   "metadata": {},
   "outputs": [],
   "source": [
    "stock_df = pd.DataFrame(stock_list)"
   ]
  },
  {
   "cell_type": "code",
   "execution_count": 32,
   "metadata": {},
   "outputs": [],
   "source": [
    "the_list = pd.DataFrame(compact_list)"
   ]
  },
  {
   "cell_type": "code",
   "execution_count": 33,
   "metadata": {},
   "outputs": [
    {
     "data": {
      "text/html": [
       "<div>\n",
       "<style scoped>\n",
       "    .dataframe tbody tr th:only-of-type {\n",
       "        vertical-align: middle;\n",
       "    }\n",
       "\n",
       "    .dataframe tbody tr th {\n",
       "        vertical-align: top;\n",
       "    }\n",
       "\n",
       "    .dataframe thead th {\n",
       "        text-align: right;\n",
       "    }\n",
       "</style>\n",
       "<table border=\"1\" class=\"dataframe\">\n",
       "  <thead>\n",
       "    <tr style=\"text-align: right;\">\n",
       "      <th></th>\n",
       "      <th>0</th>\n",
       "      <th>1</th>\n",
       "      <th>2</th>\n",
       "      <th>3</th>\n",
       "      <th>4</th>\n",
       "      <th>5</th>\n",
       "      <th>6</th>\n",
       "      <th>7</th>\n",
       "      <th>8</th>\n",
       "      <th>9</th>\n",
       "      <th>10</th>\n",
       "      <th>11</th>\n",
       "      <th>12</th>\n",
       "      <th>13</th>\n",
       "      <th>14</th>\n",
       "    </tr>\n",
       "  </thead>\n",
       "  <tbody>\n",
       "    <tr>\n",
       "      <th>0</th>\n",
       "      <td>[AAPL, Apple Inc, 13.38%]</td>\n",
       "      <td>[AMZN, Amazon.com Inc, 10.82%]</td>\n",
       "      <td>[MSFT, Microsoft Corp, 10.79%]</td>\n",
       "      <td>[FB, Facebook Inc, 4.20%]</td>\n",
       "      <td>[GOOGL, Alphabet Inc, 3.42%]</td>\n",
       "      <td>[TSLA, Tesla Inc, 3.41%]</td>\n",
       "      <td>[GOOG, Alphabet Inc, 3.32%]</td>\n",
       "      <td>[NVDA, NVIDIA Corp, 2.79%]</td>\n",
       "      <td>[ADBE, Adobe Inc, 2.03%]</td>\n",
       "      <td>[PYPL, PayPal Holdings Inc, 1.96%]</td>\n",
       "      <td>[INTC, Intel Corp, 1.90%]</td>\n",
       "      <td>[NFLX, Netflix Inc, 1.88%]</td>\n",
       "      <td>[CMCSA, Comcast Corp, 1.85%]</td>\n",
       "      <td>[PEP, PepsiCo Inc, 1.66%]</td>\n",
       "      <td>[CSCO, Cisco Systems Inc, 1.43%]</td>\n",
       "    </tr>\n",
       "    <tr>\n",
       "      <th>1</th>\n",
       "      <td>[AAPL, Apple Inc, 6.65%]</td>\n",
       "      <td>[MSFT, Microsoft Corp, 5.71%]</td>\n",
       "      <td>[AMZN, Amazon.com Inc, 4.87%]</td>\n",
       "      <td>[FB, Facebook Inc, 2.22%]</td>\n",
       "      <td>[GOOGL, Alphabet Inc, 1.58%]</td>\n",
       "      <td>[GOOG, Alphabet Inc, 1.55%]</td>\n",
       "      <td>[BRK.B, Berkshire Hathaway Inc, 1.52%]</td>\n",
       "      <td>[JNJ, Johnson &amp; Johnson, 1.39%]</td>\n",
       "      <td>[PG, Procter &amp; Gamble Co, 1.24%]</td>\n",
       "      <td>[V, Visa Inc, 1.22%]</td>\n",
       "      <td>[NVDA, NVIDIA Corp, 1.16%]</td>\n",
       "      <td>[MA, Mastercard Inc, 1.08%]</td>\n",
       "      <td>[HD, Home Depot Inc, 1.06%]</td>\n",
       "      <td>[JPM, JPMorgan Chase &amp; Co, 1.05%]</td>\n",
       "      <td>[UNH, UnitedHealth Group Inc, 1.04%]</td>\n",
       "    </tr>\n",
       "    <tr>\n",
       "      <th>2</th>\n",
       "      <td>[AAPL, Apple Inc, 21.87%]</td>\n",
       "      <td>[MSFT, Microsoft Corp, 16.56%]</td>\n",
       "      <td>[V, Visa Inc, 3.71%]</td>\n",
       "      <td>[NVDA, NVIDIA Corp, 3.52%]</td>\n",
       "      <td>[MA, Mastercard Inc, 3.32%]</td>\n",
       "      <td>[ADBE, Adobe Inc, 2.58%]</td>\n",
       "      <td>[CRM, Salesforce.Com Inc, 2.43%]</td>\n",
       "      <td>[INTC, Intel Corp, 2.39%]</td>\n",
       "      <td>[PYPL, PayPal Holdings Inc, 2.35%]</td>\n",
       "      <td>[CSCO, Cisco Systems Inc, 1.81%]</td>\n",
       "      <td>[AVGO, Broadcom Inc, 1.61%]</td>\n",
       "      <td>[ACN, Accenture PLC, 1.56%]</td>\n",
       "      <td>[QCOM, Qualcomm Inc, 1.46%]</td>\n",
       "      <td>[TXN, Texas Instruments Inc, 1.43%]</td>\n",
       "      <td>[ORCL, Oracle Corp, 1.34%]</td>\n",
       "    </tr>\n",
       "  </tbody>\n",
       "</table>\n",
       "</div>"
      ],
      "text/plain": [
       "                          0                               1   \\\n",
       "0  [AAPL, Apple Inc, 13.38%]  [AMZN, Amazon.com Inc, 10.82%]   \n",
       "1   [AAPL, Apple Inc, 6.65%]   [MSFT, Microsoft Corp, 5.71%]   \n",
       "2  [AAPL, Apple Inc, 21.87%]  [MSFT, Microsoft Corp, 16.56%]   \n",
       "\n",
       "                               2                           3   \\\n",
       "0  [MSFT, Microsoft Corp, 10.79%]   [FB, Facebook Inc, 4.20%]   \n",
       "1   [AMZN, Amazon.com Inc, 4.87%]   [FB, Facebook Inc, 2.22%]   \n",
       "2            [V, Visa Inc, 3.71%]  [NVDA, NVIDIA Corp, 3.52%]   \n",
       "\n",
       "                             4                            5   \\\n",
       "0  [GOOGL, Alphabet Inc, 3.42%]     [TSLA, Tesla Inc, 3.41%]   \n",
       "1  [GOOGL, Alphabet Inc, 1.58%]  [GOOG, Alphabet Inc, 1.55%]   \n",
       "2   [MA, Mastercard Inc, 3.32%]     [ADBE, Adobe Inc, 2.58%]   \n",
       "\n",
       "                                       6                                7   \\\n",
       "0             [GOOG, Alphabet Inc, 3.32%]       [NVDA, NVIDIA Corp, 2.79%]   \n",
       "1  [BRK.B, Berkshire Hathaway Inc, 1.52%]  [JNJ, Johnson & Johnson, 1.39%]   \n",
       "2        [CRM, Salesforce.Com Inc, 2.43%]        [INTC, Intel Corp, 2.39%]   \n",
       "\n",
       "                                   8                                   9   \\\n",
       "0            [ADBE, Adobe Inc, 2.03%]  [PYPL, PayPal Holdings Inc, 1.96%]   \n",
       "1    [PG, Procter & Gamble Co, 1.24%]                [V, Visa Inc, 1.22%]   \n",
       "2  [PYPL, PayPal Holdings Inc, 2.35%]    [CSCO, Cisco Systems Inc, 1.81%]   \n",
       "\n",
       "                            10                           11  \\\n",
       "0    [INTC, Intel Corp, 1.90%]   [NFLX, Netflix Inc, 1.88%]   \n",
       "1   [NVDA, NVIDIA Corp, 1.16%]  [MA, Mastercard Inc, 1.08%]   \n",
       "2  [AVGO, Broadcom Inc, 1.61%]  [ACN, Accenture PLC, 1.56%]   \n",
       "\n",
       "                             12                                   13  \\\n",
       "0  [CMCSA, Comcast Corp, 1.85%]            [PEP, PepsiCo Inc, 1.66%]   \n",
       "1   [HD, Home Depot Inc, 1.06%]    [JPM, JPMorgan Chase & Co, 1.05%]   \n",
       "2   [QCOM, Qualcomm Inc, 1.46%]  [TXN, Texas Instruments Inc, 1.43%]   \n",
       "\n",
       "                                     14  \n",
       "0      [CSCO, Cisco Systems Inc, 1.43%]  \n",
       "1  [UNH, UnitedHealth Group Inc, 1.04%]  \n",
       "2            [ORCL, Oracle Corp, 1.34%]  "
      ]
     },
     "execution_count": 33,
     "metadata": {},
     "output_type": "execute_result"
    }
   ],
   "source": [
    "the_list.head()"
   ]
  },
  {
   "cell_type": "code",
   "execution_count": 36,
   "metadata": {},
   "outputs": [],
   "source": [
    "the_list = the_list.reset_index().T"
   ]
  },
  {
   "cell_type": "code",
   "execution_count": 38,
   "metadata": {},
   "outputs": [
    {
     "data": {
      "text/html": [
       "<div>\n",
       "<style scoped>\n",
       "    .dataframe tbody tr th:only-of-type {\n",
       "        vertical-align: middle;\n",
       "    }\n",
       "\n",
       "    .dataframe tbody tr th {\n",
       "        vertical-align: top;\n",
       "    }\n",
       "\n",
       "    .dataframe thead th {\n",
       "        text-align: right;\n",
       "    }\n",
       "</style>\n",
       "<table border=\"1\" class=\"dataframe\">\n",
       "  <thead>\n",
       "    <tr style=\"text-align: right;\">\n",
       "      <th></th>\n",
       "      <th>Ticker</th>\n",
       "      <th>Name</th>\n",
       "      <th>Allocation</th>\n",
       "    </tr>\n",
       "  </thead>\n",
       "  <tbody>\n",
       "    <tr>\n",
       "      <th>index</th>\n",
       "      <td>0</td>\n",
       "      <td>1</td>\n",
       "      <td>2</td>\n",
       "    </tr>\n",
       "    <tr>\n",
       "      <th>0</th>\n",
       "      <td>[AAPL, Apple Inc, 13.38%]</td>\n",
       "      <td>[AAPL, Apple Inc, 6.65%]</td>\n",
       "      <td>[AAPL, Apple Inc, 21.87%]</td>\n",
       "    </tr>\n",
       "    <tr>\n",
       "      <th>1</th>\n",
       "      <td>[AMZN, Amazon.com Inc, 10.82%]</td>\n",
       "      <td>[MSFT, Microsoft Corp, 5.71%]</td>\n",
       "      <td>[MSFT, Microsoft Corp, 16.56%]</td>\n",
       "    </tr>\n",
       "    <tr>\n",
       "      <th>2</th>\n",
       "      <td>[MSFT, Microsoft Corp, 10.79%]</td>\n",
       "      <td>[AMZN, Amazon.com Inc, 4.87%]</td>\n",
       "      <td>[V, Visa Inc, 3.71%]</td>\n",
       "    </tr>\n",
       "    <tr>\n",
       "      <th>3</th>\n",
       "      <td>[FB, Facebook Inc, 4.20%]</td>\n",
       "      <td>[FB, Facebook Inc, 2.22%]</td>\n",
       "      <td>[NVDA, NVIDIA Corp, 3.52%]</td>\n",
       "    </tr>\n",
       "  </tbody>\n",
       "</table>\n",
       "</div>"
      ],
      "text/plain": [
       "                               Ticker                           Name  \\\n",
       "index                               0                              1   \n",
       "0           [AAPL, Apple Inc, 13.38%]       [AAPL, Apple Inc, 6.65%]   \n",
       "1      [AMZN, Amazon.com Inc, 10.82%]  [MSFT, Microsoft Corp, 5.71%]   \n",
       "2      [MSFT, Microsoft Corp, 10.79%]  [AMZN, Amazon.com Inc, 4.87%]   \n",
       "3           [FB, Facebook Inc, 4.20%]      [FB, Facebook Inc, 2.22%]   \n",
       "\n",
       "                           Allocation  \n",
       "index                               2  \n",
       "0           [AAPL, Apple Inc, 21.87%]  \n",
       "1      [MSFT, Microsoft Corp, 16.56%]  \n",
       "2                [V, Visa Inc, 3.71%]  \n",
       "3          [NVDA, NVIDIA Corp, 3.52%]  "
      ]
     },
     "execution_count": 38,
     "metadata": {},
     "output_type": "execute_result"
    }
   ],
   "source": [
    " # Rewrite the column names\n",
    "columns = [\"Ticker\", \"Name\",\"Allocation\"]\n",
    "the_list.columns = columns\n",
    "the_list.head() "
   ]
  },
  {
   "cell_type": "code",
   "execution_count": null,
   "metadata": {},
   "outputs": [],
   "source": [
    "# Adjust Dtypes of of allocation\n",
    "stock_df['Allocation'] = list(map(lambda x: float(x[:-1], stock_df['Allocation'].values))\n",
    "\n",
    "stock_df.Allocation = stock_df.Allocation.astype(float)\n",
    "\n",
    "stock_df['Allocation'] = stock_df['Allocation'].div(100)"
   ]
  },
  {
   "cell_type": "code",
   "execution_count": null,
   "metadata": {},
   "outputs": [],
   "source": [
    "stock_df['dollar'] = stock_df.Allocation * etf_amount\n"
   ]
  },
  {
   "cell_type": "code",
   "execution_count": null,
   "metadata": {},
   "outputs": [],
   "source": [
    "stock_df.head()"
   ]
  },
  {
   "cell_type": "code",
   "execution_count": null,
   "metadata": {},
   "outputs": [],
   "source": [
    "#Search user input through various stocks\n",
    "\n",
    "search_stock = stock_df.loc[stock_df['Ticker'] == stocks_of_interest]\n",
    "search_stock"
   ]
  },
  {
   "cell_type": "code",
   "execution_count": null,
   "metadata": {},
   "outputs": [],
   "source": [
    "stock_search_price = prev_close['Previous Close'].astype(float)\n",
    "\n",
    "stock_search_price"
   ]
  },
  {
   "cell_type": "code",
   "execution_count": null,
   "metadata": {},
   "outputs": [],
   "source": [
    "etf_stock_price = search_stock['dollar']"
   ]
  },
  {
   "cell_type": "markdown",
   "metadata": {},
   "source": [
    "# Craete output"
   ]
  },
  {
   "cell_type": "code",
   "execution_count": null,
   "metadata": {},
   "outputs": [],
   "source": [
    "user_stock = etf_stock_price / stock_search_price"
   ]
  },
  {
   "cell_type": "code",
   "execution_count": null,
   "metadata": {},
   "outputs": [],
   "source": [
    "user_stock"
   ]
  },
  {
   "cell_type": "markdown",
   "metadata": {},
   "source": [
    "# TESTING"
   ]
  },
  {
   "cell_type": "code",
   "execution_count": null,
   "metadata": {},
   "outputs": [],
   "source": [
    "data[:20]"
   ]
  },
  {
   "cell_type": "code",
   "execution_count": null,
   "metadata": {},
   "outputs": [],
   "source": [
    "def get_stock(item, stonk):\n",
    "    if item[0] == stonk:\n",
    "        return item"
   ]
  },
  {
   "cell_type": "code",
   "execution_count": null,
   "metadata": {},
   "outputs": [],
   "source": []
  },
  {
   "cell_type": "code",
   "execution_count": null,
   "metadata": {},
   "outputs": [],
   "source": [
    "for index, item in enumerate(data):\n",
    "    my_answer = get_stock(item, stocks_of_interest)\n",
    "    if my_answer != None:\n",
    "        good_answer = my_answer"
   ]
  },
  {
   "cell_type": "code",
   "execution_count": null,
   "metadata": {},
   "outputs": [],
   "source": [
    "# (lambda x: x[:-1]"
   ]
  },
  {
   "cell_type": "code",
   "execution_count": null,
   "metadata": {},
   "outputs": [],
   "source": [
    "good_answer = good_answer[-1]\n",
    "good_answer"
   ]
  },
  {
   "cell_type": "code",
   "execution_count": null,
   "metadata": {},
   "outputs": [],
   "source": [
    "good_answer[:-1]"
   ]
  },
  {
   "cell_type": "code",
   "execution_count": null,
   "metadata": {},
   "outputs": [],
   "source": []
  }
 ],
 "metadata": {
  "kernelspec": {
   "display_name": "Python 3",
   "language": "python",
   "name": "python3"
  },
  "language_info": {
   "codemirror_mode": {
    "name": "ipython",
    "version": 3
   },
   "file_extension": ".py",
   "mimetype": "text/x-python",
   "name": "python",
   "nbconvert_exporter": "python",
   "pygments_lexer": "ipython3",
   "version": "3.8.3"
  }
 },
 "nbformat": 4,
 "nbformat_minor": 4
}
