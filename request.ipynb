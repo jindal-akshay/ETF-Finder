{
 "cells": [
  {
   "cell_type": "markdown",
   "metadata": {},
   "source": [
    "## Import libraries"
   ]
  },
  {
   "cell_type": "code",
   "execution_count": 1,
   "metadata": {},
   "outputs": [],
   "source": [
    "\n",
    "\n",
    "import numpy as np\n",
    "import pandas as pd\n",
    "import requests\n",
    "from bs4 import BeautifulSoup as bs\n",
    "from pathlib import Path\n"
   ]
  },
  {
   "cell_type": "code",
   "execution_count": 3,
   "metadata": {},
   "outputs": [
    {
     "name": "stdin",
     "output_type": "stream",
     "text": [
      "Enter number of elements :  10\n",
      "\n",
      "Enter the numbers :  3 5 5 3 9 4 5 9 20\n"
     ]
    },
    {
     "name": "stdout",
     "output_type": "stream",
     "text": [
      "\n",
      "List is -  [3, 5, 5, 3, 9, 4, 5, 9, 20]\n"
     ]
    }
   ],
   "source": [
    "# number of elements \n",
    "n = int(input(\"Enter number of elements : \")) \n",
    "  \n",
    "# Below line read inputs from user using map() function  \n",
    "a = list(map(int,input(\"\\nEnter the numbers : \").strip().split()))[:n] \n",
    "  \n",
    "print(\"\\nList is - \", a)"
   ]
  },
  {
   "cell_type": "code",
   "execution_count": 4,
   "metadata": {},
   "outputs": [
    {
     "data": {
      "text/plain": [
       "9"
      ]
     },
     "execution_count": 4,
     "metadata": {},
     "output_type": "execute_result"
    }
   ],
   "source": [
    "len(a)"
   ]
  },
  {
   "cell_type": "markdown",
   "metadata": {},
   "source": [
    "# Define Functions"
   ]
  },
  {
   "cell_type": "code",
   "execution_count": null,
   "metadata": {},
   "outputs": [],
   "source": [
    "# Function for user stock of choice\n",
    "def user_stock_choice(stock_of_interest):  \n",
    "    return stocks\n",
    "\n",
    "# Function for etf dollar amount\n",
    "def etf_values(etf_amount):\n",
    "    \n",
    "    etf_amount = []\n",
    "        \n",
    "    return etf_dollar\n",
    "\n",
    "# Function for the ETF of choice\n",
    "\n",
    "def etf_selection(etfs):\n",
    "    etfs = []\n",
    "\n",
    "# etfs = str( input(\"Input your ETF of Interest: \") )\n",
    "# etf_amount = int( input(\"Input how much money invested in ETF: \") )\n",
    "stocks_of_interest = str( input(\"Input Stock of Interest: \") )\n",
    "\n",
    "\n",
    "# etf_selection(etfs)\n",
    "\n",
    "# Function to calculate output\n",
    "\n",
    "# def calc_output(etfs,stock_of_interest,result_am):\n",
    "   \n",
    "#     results_am = etfs * etfs_value\n",
    "    \n",
    "\n",
    "#     return calc\n",
    "\n",
    "\n",
    "\n"
   ]
  },
  {
   "cell_type": "code",
   "execution_count": null,
   "metadata": {},
   "outputs": [],
   "source": [
    "# taking multiple inputs at a time  \n",
    "etf_sut = [str(etf_sut) for etf_sut in input(\"Enter the dollar amount : \").split()] \n",
    "print(\"How much are you invested in each ETF : \", etf_sut) "
   ]
  },
  {
   "cell_type": "code",
   "execution_count": null,
   "metadata": {},
   "outputs": [],
   "source": [
    "#convert to str to int\n",
    "etf_sut = [int(i) for i in etf_sut]"
   ]
  },
  {
   "cell_type": "code",
   "execution_count": null,
   "metadata": {},
   "outputs": [],
   "source": [
    "# taking multiple inputs at a time  \n",
    "etf1 = [str(etf1) for etf1 in input(\"Enter the ETFS of interest: \").split()] \n",
    "print(\"The ETFS you selected are: \", etf1) "
   ]
  },
  {
   "cell_type": "code",
   "execution_count": null,
   "metadata": {},
   "outputs": [],
   "source": [
    "batch_size = len(etf1)"
   ]
  },
  {
   "cell_type": "code",
   "execution_count": null,
   "metadata": {},
   "outputs": [],
   "source": [
    "  \n",
    "base_url = 'https://etfdb.com/etf'\n",
    "function = '#holdings'\n",
    "# etf_selec = etfs"
   ]
  },
  {
   "cell_type": "code",
   "execution_count": null,
   "metadata": {},
   "outputs": [],
   "source": [
    "out=[]\n",
    "for number in a:\n",
    "    out.append(b[:number])\n",
    "    b=b[number:]\n",
    "print(out)"
   ]
  },
  {
   "cell_type": "code",
   "execution_count": null,
   "metadata": {},
   "outputs": [],
   "source": [
    "batch_size = len(etf1)\n",
    "urllist = [f'{base_url}/{etf1[0]}/{function}', f'{base_url}/{etf1[1]}/{function}', f'{base_url}/{etf1[2]}/{function}', f'{base_url}/{etf1[3]}/{function}', f'{base_url}/{etf1[4]}/{function}']\n",
    "url_chunks = [urllist[x:x+batch_size] for x in range(0, len(urllist), batch_size)]\n",
    "\n",
    "# def scrape_url(urllist):\n",
    "#     response = requests.get(urllist)\n",
    "#     soup = bs(response.content, \"html.parser\")\n",
    "#     h1 = soup.find(\"h1\", class_= \"class-headline\")\n",
    "#     return (h1.get_text())\n",
    "\n",
    "# def scrape_batch(url_chunks):\n",
    "#     chunk_resp = []\n",
    "#     for urllist in url_chunks:\n",
    "#         chunk_resp.append(scrape_url(urllist))\n",
    "#     return chunk_resp\n",
    "\n",
    "#     for url_chunks in url_chunks:\n",
    "#         print(scrape_batch(url_chunks))"
   ]
  },
  {
   "cell_type": "code",
   "execution_count": null,
   "metadata": {},
   "outputs": [],
   "source": [
    "print((urllist))"
   ]
  },
  {
   "cell_type": "markdown",
   "metadata": {},
   "source": [
    "# Scrape for Data"
   ]
  },
  {
   "cell_type": "code",
   "execution_count": null,
   "metadata": {},
   "outputs": [],
   "source": [
    "# Access The ETFDB website \n",
    "\n",
    "# # TODO: Have multiple ETF Selections\n",
    "\n",
    "\n",
    "    \n",
    "# base_url = 'https://etfdb.com/etf'\n",
    "# function = '#holdings'\n",
    "# etf_selec = etfs\n",
    "    \n",
    "\n",
    "response1 = requests.get(urllist[0]) .text\n",
    "response2 = requests.get(urllist[1]) .text\n",
    "response3 = requests.get(urllist[2]) .text\n",
    "response4 = requests.get(urllist[3]) .text\n",
    "response5 = requests.get(urllist[4]) .text\n",
    "\n",
    "soup1 = bs(response1, 'lxml')\n",
    "soup2 = bs(response2, 'lxml')\n",
    "soup3 = bs(response3, 'lxml')\n",
    "soup4 = bs(response4, 'lxml')\n",
    "soup5 = bs(response5, 'lxml')\n"
   ]
  },
  {
   "cell_type": "code",
   "execution_count": null,
   "metadata": {},
   "outputs": [],
   "source": [
    "# Access the Yahoo Finance website\n",
    "\n",
    "base = 'https://finance.yahoo.com/quote/'\n",
    "\n",
    "response_stock = requests.get(f'{base}{stocks_of_interest}?p={stocks_of_interest}&.tsrc=fin-srch%27') .text\n",
    "\n",
    "soup_stock = bs(response_stock,\"html.parser\")"
   ]
  },
  {
   "cell_type": "code",
   "execution_count": null,
   "metadata": {},
   "outputs": [],
   "source": [
    "#Establish frame of searches\n",
    "#Lists to store \n",
    "# Part of page\n",
    "l={}\n",
    "u=list()\n",
    "alldata = soup_stock.find_all('tbody')\n",
    "\n"
   ]
  },
  {
   "cell_type": "markdown",
   "metadata": {},
   "source": [
    "alldataint out table of search"
   ]
  },
  {
   "cell_type": "code",
   "execution_count": null,
   "metadata": {},
   "outputs": [],
   "source": [
    "\n",
    "try:\n",
    " table1 = alldata[0].find_all(\"tr\")\n",
    "except:\n",
    " table1=None\n",
    "try:\n",
    " table2 = alldata[1].find_all(\"tr\")\n",
    "except:\n",
    " table2 = None"
   ]
  },
  {
   "cell_type": "code",
   "execution_count": null,
   "metadata": {},
   "outputs": [],
   "source": [
    "for i in range(0,len(table1)):\n",
    " try:\n",
    "   table1_td = table1[i].find_all(\"td\")\n",
    " except:\n",
    "   table1_td = None\n",
    " l[table1_td[0].text] = table1_td[1].text\n",
    " u.append(l)\n",
    " l={}"
   ]
  },
  {
   "cell_type": "code",
   "execution_count": null,
   "metadata": {},
   "outputs": [],
   "source": [
    "for i in range(0,len(table2)):\n",
    " try:\n",
    "   table2_td = table2[i].find_all('td')\n",
    " except:\n",
    "   table2_td = None\n",
    " l[table2_td[0].text] = table2_td[1].text\n",
    " u.append(l)\n",
    " l={}"
   ]
  },
  {
   "cell_type": "code",
   "execution_count": null,
   "metadata": {},
   "outputs": [],
   "source": [
    "#pull the previous close from list\n",
    "prev_close = pd.DataFrame(u[:1])"
   ]
  },
  {
   "cell_type": "code",
   "execution_count": null,
   "metadata": {},
   "outputs": [],
   "source": [
    "# Search for ETF list data\n",
    "data1=[]\n",
    "for row in soup1.select('tbody tr'):\n",
    "    row_text = [x.text for x in row.find_all('td')]\n",
    "    data1.append((row_text))\n",
    "    print(', '.join(row_text))"
   ]
  },
  {
   "cell_type": "code",
   "execution_count": null,
   "metadata": {},
   "outputs": [],
   "source": [
    "# Search for ETF list data\n",
    "data2=[]\n",
    "for row in soup2.select('tbody tr'):\n",
    "    row_text2 = [x.text for x in row.find_all('td')]\n",
    "    data2.append((row_text2))\n",
    "    print(', '.join(row_text2))"
   ]
  },
  {
   "cell_type": "code",
   "execution_count": null,
   "metadata": {},
   "outputs": [],
   "source": [
    "# Search for ETF list data\n",
    "data3=[]\n",
    "for row in soup3.select('tbody tr'):\n",
    "    row_text3 = [x.text for x in row.find_all('td')]\n",
    "    data3.append((row_text3))\n",
    "    print(', '.join(row_text3))"
   ]
  },
  {
   "cell_type": "code",
   "execution_count": null,
   "metadata": {},
   "outputs": [],
   "source": [
    "# Search for ETF list data\n",
    "data4=[]\n",
    "for row in soup3.select('tbody tr'):\n",
    "    row_text4 = [x.text for x in row.find_all('td')]\n",
    "    data4.append((row_text4))\n",
    "    print(', '.join(row_text4))"
   ]
  },
  {
   "cell_type": "code",
   "execution_count": null,
   "metadata": {},
   "outputs": [],
   "source": [
    "# Search for ETF list data\n",
    "data5=[]\n",
    "for row in soup3.select('tbody tr'):\n",
    "    row_text5 = [x.text for x in row.find_all('td')]\n",
    "    data5.append((row_text5))\n",
    "    print(', '.join(row_text5))"
   ]
  },
  {
   "cell_type": "markdown",
   "metadata": {},
   "source": [
    "\n",
    "\n",
    "\n",
    "# Clean up data"
   ]
  },
  {
   "cell_type": "code",
   "execution_count": null,
   "metadata": {},
   "outputs": [],
   "source": [
    "#SELECT ONLY STOCK INFO FROM 'DATA' parse through\n",
    "#TODO: ITERATE THROUGH KEYS RATHER THAN STATIC POSITIONS\n",
    "stock_list1 = data1[6:21]\n",
    "stock_list2 = data2[6:21]\n",
    "stock_list3 = data3[6:21]\n",
    "stock_list4 = data4[6:21]\n",
    "stock_list5 = data5[6:21]"
   ]
  },
  {
   "cell_type": "code",
   "execution_count": null,
   "metadata": {},
   "outputs": [],
   "source": [
    "stock_list_df1 = pd.DataFrame(stock_list1)\n",
    "stock_list_df2 = pd.DataFrame(stock_list2)\n",
    "stock_list_df3 = pd.DataFrame(stock_list3)\n",
    "stock_list_df4 = pd.DataFrame(stock_list4)\n",
    "stock_list_df5 = pd.DataFrame(stock_list5)\n"
   ]
  },
  {
   "cell_type": "code",
   "execution_count": null,
   "metadata": {},
   "outputs": [],
   "source": [
    " # Rewrite the column names\n",
    "columns = [\"Ticker\", \"Name\",\"Allocation\"]\n",
    "stock_list_df1.columns = columns\n",
    "stock_list_df1.head() \n",
    "\n",
    "\n",
    "stock_list_df2.columns = columns\n",
    "stock_list_df2.head() \n",
    "\n",
    "\n",
    "stock_list_df3.columns = columns\n",
    "stock_list_df3.head() \n",
    "\n",
    "stock_list_df4.columns = columns\n",
    "stock_list_df4.head() \n",
    "\n",
    "stock_list_df5.columns = columns\n",
    "stock_list_df5.head() \n",
    "\n"
   ]
  },
  {
   "cell_type": "code",
   "execution_count": null,
   "metadata": {},
   "outputs": [],
   "source": [
    "# TODO: THis can be accomplished converting the type in the list from beatifulsoup"
   ]
  },
  {
   "cell_type": "code",
   "execution_count": null,
   "metadata": {},
   "outputs": [],
   "source": [
    "stock_list_df1['Allocation'] = stock_list_df1['Allocation'].str.replace(',', '')\n",
    "stock_list_df1['Allocation'] = stock_list_df1['Allocation'].str.replace('%', '')\n",
    "stock_list_df1['Allocation'] = stock_list_df1['Allocation'].astype(float).div(100)"
   ]
  },
  {
   "cell_type": "code",
   "execution_count": null,
   "metadata": {},
   "outputs": [],
   "source": [
    "stock_list_df2['Allocation'] = stock_list_df2['Allocation'].str.replace(',', '')\n",
    "stock_list_df2['Allocation'] = stock_list_df2['Allocation'].str.replace('%', '')\n",
    "stock_list_df2['Allocation'] = stock_list_df2['Allocation'].astype(float).div(100)"
   ]
  },
  {
   "cell_type": "code",
   "execution_count": null,
   "metadata": {},
   "outputs": [],
   "source": [
    "stock_list_df3['Allocation'] = stock_list_df3['Allocation'].str.replace(',', '')\n",
    "stock_list_df3['Allocation'] = stock_list_df3['Allocation'].str.replace('%', '')\n",
    "stock_list_df3['Allocation'] = stock_list_df3['Allocation'].astype(float).div(100)"
   ]
  },
  {
   "cell_type": "code",
   "execution_count": null,
   "metadata": {},
   "outputs": [],
   "source": [
    "stock_list_df4['Allocation'] = stock_list_df4['Allocation'].str.replace(',', '')\n",
    "stock_list_df4['Allocation'] = stock_list_df4['Allocation'].str.replace('%', '')\n",
    "stock_list_df4['Allocation'] = stock_list_df4['Allocation'].astype(float).div(100)"
   ]
  },
  {
   "cell_type": "code",
   "execution_count": null,
   "metadata": {},
   "outputs": [],
   "source": [
    "stock_list_df5['Allocation'] = stock_list_df5['Allocation'].str.replace(',', '')\n",
    "stock_list_df5['Allocation'] = stock_list_df5['Allocation'].str.replace('%', '')\n",
    "stock_list_df5['Allocation'] = stock_list_df5['Allocation'].astype(float).div(100)"
   ]
  },
  {
   "cell_type": "code",
   "execution_count": null,
   "metadata": {},
   "outputs": [],
   "source": [
    "#try concat, then search\n",
    "\n",
    "# stock_df = pd.concat([stock_list_df1, stock_list_df2, stock_list_df3])"
   ]
  },
  {
   "cell_type": "code",
   "execution_count": null,
   "metadata": {},
   "outputs": [],
   "source": [
    "# stock_df.Allocation = stock_df.Allocation.astype(float)\n",
    "\n",
    "# stock_df['Allocation'] = stock_df['Allocation'].div(100)"
   ]
  },
  {
   "cell_type": "code",
   "execution_count": null,
   "metadata": {},
   "outputs": [],
   "source": [
    "# etf_sut[0].astype(int)"
   ]
  },
  {
   "cell_type": "code",
   "execution_count": null,
   "metadata": {},
   "outputs": [],
   "source": [
    "stock_list_df1['dollar'] = stock_list_df1.Allocation * etf_sut[0]\n",
    "stock_list_df2['dollar'] = stock_list_df2.Allocation * etf_sut[1]\n",
    "stock_list_df3['dollar'] = stock_list_df3.Allocation * etf_sut[2]\n",
    "stock_list_df4['dollar'] = stock_list_df4.Allocation * etf_sut[3]\n",
    "stock_list_df5['dollar'] = stock_list_df5.Allocation * etf_sut[4]\n"
   ]
  },
  {
   "cell_type": "code",
   "execution_count": null,
   "metadata": {},
   "outputs": [],
   "source": [
    "#try concat, then search\n",
    "\n",
    "stock_df = pd.concat([stock_list_df1, stock_list_df2, stock_list_df3, stock_list_df4, stock_list_df5])"
   ]
  },
  {
   "cell_type": "code",
   "execution_count": null,
   "metadata": {},
   "outputs": [],
   "source": [
    "#Search user input through various stocks\n",
    "\n",
    "search_stock = stock_df.loc[stock_df['Ticker'] == stocks_of_interest]\n",
    "search_stock"
   ]
  },
  {
   "cell_type": "code",
   "execution_count": null,
   "metadata": {},
   "outputs": [],
   "source": [
    "stock_search_price = prev_close['Previous Close'].astype(float)\n",
    "\n",
    "stock_search_price"
   ]
  },
  {
   "cell_type": "code",
   "execution_count": null,
   "metadata": {},
   "outputs": [],
   "source": [
    "etf_stock_price = search_stock['dollar']"
   ]
  },
  {
   "cell_type": "markdown",
   "metadata": {},
   "source": [
    "# Craete output"
   ]
  },
  {
   "cell_type": "code",
   "execution_count": null,
   "metadata": {},
   "outputs": [],
   "source": [
    "user_stock = etf_stock_price / stock_search_price"
   ]
  },
  {
   "cell_type": "code",
   "execution_count": null,
   "metadata": {},
   "outputs": [],
   "source": [
    "user_stock"
   ]
  },
  {
   "cell_type": "code",
   "execution_count": null,
   "metadata": {},
   "outputs": [],
   "source": [
    "type(user_stock)"
   ]
  },
  {
   "cell_type": "code",
   "execution_count": null,
   "metadata": {},
   "outputs": [],
   "source": [
    "# pd.DataFrame({'sum': user_stock.sum()})\n",
    "total = user_stock.sum()"
   ]
  },
  {
   "cell_type": "code",
   "execution_count": null,
   "metadata": {},
   "outputs": [],
   "source": [
    "print(total)"
   ]
  },
  {
   "cell_type": "markdown",
   "metadata": {},
   "source": [
    "# TESTING"
   ]
  },
  {
   "cell_type": "code",
   "execution_count": null,
   "metadata": {},
   "outputs": [],
   "source": [
    "data[:20]"
   ]
  },
  {
   "cell_type": "code",
   "execution_count": null,
   "metadata": {},
   "outputs": [],
   "source": [
    "def get_stock(item, stonk):\n",
    "    if item[0] == stonk:\n",
    "        return item"
   ]
  },
  {
   "cell_type": "code",
   "execution_count": null,
   "metadata": {},
   "outputs": [],
   "source": []
  },
  {
   "cell_type": "code",
   "execution_count": null,
   "metadata": {},
   "outputs": [],
   "source": [
    "for index, item in enumerate(data):\n",
    "    my_answer = get_stock(item, stocks_of_interest)\n",
    "    if my_answer != None:\n",
    "        good_answer = my_answer"
   ]
  },
  {
   "cell_type": "code",
   "execution_count": null,
   "metadata": {},
   "outputs": [],
   "source": [
    "# (lambda x: x[:-1]"
   ]
  },
  {
   "cell_type": "code",
   "execution_count": null,
   "metadata": {},
   "outputs": [],
   "source": [
    "good_answer = good_answer[-1]\n",
    "good_answer"
   ]
  },
  {
   "cell_type": "code",
   "execution_count": null,
   "metadata": {},
   "outputs": [],
   "source": [
    "good_answer[:-1]"
   ]
  },
  {
   "cell_type": "code",
   "execution_count": null,
   "metadata": {},
   "outputs": [],
   "source": []
  }
 ],
 "metadata": {
  "kernelspec": {
   "display_name": "Python 3",
   "language": "python",
   "name": "python3"
  },
  "language_info": {
   "codemirror_mode": {
    "name": "ipython",
    "version": 3
   },
   "file_extension": ".py",
   "mimetype": "text/x-python",
   "name": "python",
   "nbconvert_exporter": "python",
   "pygments_lexer": "ipython3",
   "version": "3.8.3"
  }
 },
 "nbformat": 4,
 "nbformat_minor": 4
}
