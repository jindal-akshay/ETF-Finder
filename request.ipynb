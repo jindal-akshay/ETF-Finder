{
 "cells": [
  {
   "cell_type": "markdown",
   "metadata": {},
   "source": [
    "## Import libraries"
   ]
  },
  {
   "cell_type": "code",
   "execution_count": 1,
   "metadata": {},
   "outputs": [],
   "source": [
    "#THINGS TO DO\n",
    "\n",
    "# HOW THE FUCK DO WE GET MULTIPLE USER INPUT \n",
    "# - create 10 empty url searches? (That can be the cap)\n",
    "# - Store 10 empty etf dollar amounts"
   ]
  },
  {
   "cell_type": "code",
   "execution_count": 2,
   "metadata": {},
   "outputs": [],
   "source": [
    "\n",
    "\n",
    "import numpy as np\n",
    "import pandas as pd\n",
    "import requests\n",
    "from bs4 import BeautifulSoup as bs\n",
    "from pathlib import Path\n"
   ]
  },
  {
   "cell_type": "markdown",
   "metadata": {},
   "source": [
    "# Define Functions"
   ]
  },
  {
   "cell_type": "code",
   "execution_count": null,
   "metadata": {},
   "outputs": [],
   "source": []
  },
  {
   "cell_type": "code",
   "execution_count": 3,
   "metadata": {},
   "outputs": [
    {
     "name": "stdin",
     "output_type": "stream",
     "text": [
      "Input your ETF of Interest:  QQQ\n",
      "Input how much money invested in ETF:  1000\n",
      "Input Stock of Interest:  AAPL\n"
     ]
    }
   ],
   "source": [
    "# Function for user stock of choice\n",
    "def user_stock_choice(stock_of_interest):  \n",
    "    return stocks\n",
    "\n",
    "# Function for etf dollar amount\n",
    "def etf_values(etf_amount):\n",
    "    \n",
    "    etf_amount = []\n",
    "        \n",
    "    return etf_dollar\n",
    "\n",
    "# Function for the ETF of choice\n",
    "\n",
    "def etf_selection(etfs):\n",
    "    etfs = []\n",
    "\n",
    "etfs = str( input(\"Input your ETF of Interest: \") )\n",
    "etf_amount = int( input(\"Input how much money invested in ETF: \") )\n",
    "stocks_of_interest = str( input(\"Input Stock of Interest: \") )\n",
    "\n",
    "\n",
    "etf_selection(etfs)\n",
    "\n",
    "# Function to calculate output\n",
    "\n",
    "# def calc_output(etfs,stock_of_interest,result_am):\n",
    "   \n",
    "#     results_am = etfs * etfs_value\n",
    "    \n",
    "\n",
    "#     return calc\n",
    "\n",
    "\n",
    "\n"
   ]
  },
  {
   "cell_type": "markdown",
   "metadata": {},
   "source": [
    "# Scrape for Data"
   ]
  },
  {
   "cell_type": "code",
   "execution_count": 4,
   "metadata": {},
   "outputs": [],
   "source": [
    "# Access The ETFDB website \n",
    "\n",
    "# TODO: Have multiple ETF Selections\n",
    "base_url = 'https://etfdb.com/etf'\n",
    "function = '#holdings'\n",
    "etf_selec = etfs\n",
    "\n",
    "response = requests.get(f'{base_url}/{etf_selec}/{function}') .text\n",
    "\n",
    "soup = bs(response, 'lxml')\n"
   ]
  },
  {
   "cell_type": "code",
   "execution_count": 5,
   "metadata": {},
   "outputs": [],
   "source": [
    "# Access the Yahoo Finance website\n",
    "\n",
    "base = 'https://finance.yahoo.com/quote/'\n",
    "\n",
    "response_stock = requests.get(f'{base}{stocks_of_interest}?p={stocks_of_interest}&.tsrc=fin-srch%27') .text\n",
    "\n",
    "soup_stock = bs(response_stock,\"html.parser\")"
   ]
  },
  {
   "cell_type": "code",
   "execution_count": 6,
   "metadata": {},
   "outputs": [],
   "source": [
    "#Establish frame of searches\n",
    "#Lists to store \n",
    "# Part of page\n",
    "l={}\n",
    "u=list()\n",
    "alldata = soup_stock.find_all('tbody')"
   ]
  },
  {
   "cell_type": "markdown",
   "metadata": {},
   "source": [
    "alldataint out table of search"
   ]
  },
  {
   "cell_type": "code",
   "execution_count": 8,
   "metadata": {},
   "outputs": [],
   "source": [
    "\n",
    "try:\n",
    " table1 = alldata[0].find_all(\"tr\")\n",
    "except:\n",
    " table1=None\n",
    "try:\n",
    " table2 = alldata[1].find_all(\"tr\")\n",
    "except:\n",
    " table2 = None"
   ]
  },
  {
   "cell_type": "code",
   "execution_count": 9,
   "metadata": {},
   "outputs": [],
   "source": [
    "for i in range(0,len(table1)):\n",
    " try:\n",
    "   table1_td = table1[i].find_all(\"td\")\n",
    " except:\n",
    "   table1_td = None\n",
    " l[table1_td[0].text] = table1_td[1].text\n",
    " u.append(l)\n",
    " l={}"
   ]
  },
  {
   "cell_type": "code",
   "execution_count": 10,
   "metadata": {},
   "outputs": [],
   "source": [
    "for i in range(0,len(table2)):\n",
    " try:\n",
    "   table2_td = table2[i].find_all('td')\n",
    " except:\n",
    "   table2_td = None\n",
    " l[table2_td[0].text] = table2_td[1].text\n",
    " u.append(l)\n",
    " l={}"
   ]
  },
  {
   "cell_type": "code",
   "execution_count": 11,
   "metadata": {},
   "outputs": [],
   "source": [
    "#pull the previous close from list\n",
    "prev_close = pd.DataFrame(u[:1])"
   ]
  },
  {
   "cell_type": "code",
   "execution_count": 12,
   "metadata": {},
   "outputs": [
    {
     "name": "stdout",
     "output_type": "stream",
     "text": [
      "Open, -, Volume, -\n",
      "Day Lo, -, Day Hi, -\n",
      "\n",
      "Cheapest\n",
      ", BKLC, 0.00%, \n",
      "$79.2 M\n",
      ", \n",
      "12,784\n",
      ", \n",
      "\n",
      "Largest (AUM)\n",
      ", SPY, 0.09%, \n",
      "$294.8 B\n",
      ", \n",
      "71 M\n",
      ", 3.79%\n",
      "\n",
      "Most Liquid (Volume)\n",
      ", SPY, 0.09%, \n",
      "$294.8 B\n",
      ", \n",
      "71 M\n",
      ", 3.79%\n",
      "\n",
      "Top YTD Performer\n",
      ", ARKW, 0.76%, \n",
      "$2.3 B\n",
      ", \n",
      "744,814\n",
      ", 79.09%\n",
      "AAPL, Apple Inc, 13.07%\n",
      "MSFT, Microsoft Corp, 10.72%\n",
      "AMZN, Amazon.com Inc, 10.41%\n",
      "FB, Facebook Inc, 4.29%\n",
      "TSLA, Tesla Inc, 3.69%\n",
      "GOOGL, Alphabet Inc, 3.52%\n",
      "GOOG, Alphabet Inc, 3.47%\n",
      "NVDA, NVIDIA Corp, 2.70%\n",
      "ADBE, Adobe Inc, 2.03%\n",
      "INTC, Intel Corp, 1.90%\n",
      "PYPL, PayPal Holdings Inc, 1.86%\n",
      "NFLX, Netflix Inc, 1.86%\n",
      "CMCSA, Comcast Corp, 1.86%\n",
      "PEP, PepsiCo Inc, 1.64%\n",
      "CSCO, Cisco Systems Inc, 1.51%\n",
      "Common equity, 99.85%\n",
      "ETF Cash Component, 0.15%\n",
      "Technology, 45.2%\n",
      "Communications, 19.37%\n",
      "Consumer, Cyclical, 18.02%\n",
      "Healthcare, 6.48%\n",
      "Consumer, Non-Cyclical, 4.7%\n",
      "Other, 3.65%\n",
      "Industrials, 1.82%\n",
      "Utilities, 0.62%\n",
      "ETF Cash Component, 0.15%\n",
      "Large cap, 98.05%\n",
      "Mid cap, 1.77%\n",
      "ETF Cash Component, 0.15%\n",
      "Small cap, 0.04%\n",
      "North America, 95.76%\n",
      "Europe, 1.91%\n",
      "Asia, 1.58%\n",
      "Latin America, 0.45%\n",
      "Middle East, 0.15%\n",
      "ETF Cash Component, 0.15%\n",
      "United States, 95.76%\n",
      "Developed Markets (ex-US), 2.07%\n",
      "Emerging Markets, 2.03%\n",
      "ETF Cash Component, 0.15%\n",
      "United States, 95.76%\n",
      "China, 1.58%\n",
      "Germany, 1.23%\n",
      "Netherlands, 0.57%\n",
      "Argentina, 0.45%\n",
      "Israel, 0.15%\n",
      "ETF Cash Component, 0.15%\n",
      "United Kingdom, 0.11%\n",
      "Common equity, 99.85%\n",
      "ETF Cash Component, 0.15%\n"
     ]
    }
   ],
   "source": [
    "# Search for ETF list data\n",
    "data=[]\n",
    "for row in soup.select('tbody tr'):\n",
    "    row_text = [x.text for x in row.find_all('td')]\n",
    "    data.append((row_text))\n",
    "    print(', '.join(row_text))"
   ]
  },
  {
   "cell_type": "markdown",
   "metadata": {},
   "source": [
    "# Clean up data"
   ]
  },
  {
   "cell_type": "code",
   "execution_count": 13,
   "metadata": {},
   "outputs": [],
   "source": [
    "#SELECT ONLY STOCK INFO FROM 'DATA' parse through\n",
    "#TODO: ITERATE THROUGH KEYS RATHER THAN STATIC POSITIONS\n",
    "stock_list = data[6:21]"
   ]
  },
  {
   "cell_type": "code",
   "execution_count": null,
   "metadata": {},
   "outputs": [],
   "source": [
    "stock_df = pd.DataFrame(stock_list)"
   ]
  },
  {
   "cell_type": "code",
   "execution_count": 16,
   "metadata": {},
   "outputs": [
    {
     "data": {
      "text/plain": [
       "[['Open', '-', 'Volume', '-'],\n",
       " ['Day Lo', '-', 'Day Hi', '-'],\n",
       " ['\\nCheapest\\n', 'BKLC', '0.00%', '\\n$79.2\\xa0M\\n', '\\n12,784\\n', ''],\n",
       " ['\\nLargest (AUM)\\n', 'SPY', '0.09%', '\\n$294.8\\xa0B\\n', '\\n71 M\\n', '3.79%'],\n",
       " ['\\nMost Liquid (Volume)\\n',\n",
       "  'SPY',\n",
       "  '0.09%',\n",
       "  '\\n$294.8\\xa0B\\n',\n",
       "  '\\n71 M\\n',\n",
       "  '3.79%'],\n",
       " ['\\nTop YTD Performer\\n',\n",
       "  'ARKW',\n",
       "  '0.76%',\n",
       "  '\\n$2.3\\xa0B\\n',\n",
       "  '\\n744,814\\n',\n",
       "  '79.09%'],\n",
       " ['AAPL', 'Apple Inc', '13.07%'],\n",
       " ['MSFT', 'Microsoft Corp', '10.72%'],\n",
       " ['AMZN', 'Amazon.com Inc', '10.41%'],\n",
       " ['FB', 'Facebook Inc', '4.29%'],\n",
       " ['TSLA', 'Tesla Inc', '3.69%'],\n",
       " ['GOOGL', 'Alphabet Inc', '3.52%'],\n",
       " ['GOOG', 'Alphabet Inc', '3.47%'],\n",
       " ['NVDA', 'NVIDIA Corp', '2.70%'],\n",
       " ['ADBE', 'Adobe Inc', '2.03%'],\n",
       " ['INTC', 'Intel Corp', '1.90%'],\n",
       " ['PYPL', 'PayPal Holdings Inc', '1.86%'],\n",
       " ['NFLX', 'Netflix Inc', '1.86%'],\n",
       " ['CMCSA', 'Comcast Corp', '1.86%'],\n",
       " ['PEP', 'PepsiCo Inc', '1.64%'],\n",
       " ['CSCO', 'Cisco Systems Inc', '1.51%'],\n",
       " ['Common equity', '99.85%'],\n",
       " ['ETF Cash Component', '0.15%'],\n",
       " ['Technology', '45.2%'],\n",
       " ['Communications', '19.37%'],\n",
       " ['Consumer, Cyclical', '18.02%'],\n",
       " ['Healthcare', '6.48%'],\n",
       " ['Consumer, Non-Cyclical', '4.7%'],\n",
       " ['Other', '3.65%'],\n",
       " ['Industrials', '1.82%'],\n",
       " ['Utilities', '0.62%'],\n",
       " ['ETF Cash Component', '0.15%'],\n",
       " ['Large cap', '98.05%'],\n",
       " ['Mid cap', '1.77%'],\n",
       " ['ETF Cash Component', '0.15%'],\n",
       " ['Small cap', '0.04%'],\n",
       " ['North America', '95.76%'],\n",
       " ['Europe', '1.91%'],\n",
       " ['Asia', '1.58%'],\n",
       " ['Latin America', '0.45%'],\n",
       " ['Middle East', '0.15%'],\n",
       " ['ETF Cash Component', '0.15%'],\n",
       " ['United States', '95.76%'],\n",
       " ['Developed Markets (ex-US)', '2.07%'],\n",
       " ['Emerging Markets', '2.03%'],\n",
       " ['ETF Cash Component', '0.15%'],\n",
       " ['United States', '95.76%'],\n",
       " ['China', '1.58%'],\n",
       " ['Germany', '1.23%'],\n",
       " ['Netherlands', '0.57%'],\n",
       " ['Argentina', '0.45%'],\n",
       " ['Israel', '0.15%'],\n",
       " ['ETF Cash Component', '0.15%'],\n",
       " ['United Kingdom', '0.11%'],\n",
       " ['Common equity', '99.85%'],\n",
       " ['ETF Cash Component', '0.15%']]"
      ]
     },
     "execution_count": 16,
     "metadata": {},
     "output_type": "execute_result"
    }
   ],
   "source": [
    "data"
   ]
  },
  {
   "cell_type": "code",
   "execution_count": null,
   "metadata": {},
   "outputs": [],
   "source": [
    "stock_df.head()"
   ]
  },
  {
   "cell_type": "code",
   "execution_count": null,
   "metadata": {},
   "outputs": [],
   "source": [
    " # Rewrite the column names\n",
    "columns = [\"Ticker\", \"Name\",\"Allocation\"]\n",
    "stock_df.columns = columns\n",
    "stock_df.head() "
   ]
  },
  {
   "cell_type": "code",
   "execution_count": null,
   "metadata": {},
   "outputs": [],
   "source": [
    "# Adjust Dtypes of of allocation\n",
    "stock_df['Allocation'] = list(map(lambda x: float(x[:-1], stock_df['Allocation'].values))\n",
    "\n",
    "stock_df.Allocation = stock_df.Allocation.astype(float)\n",
    "\n",
    "stock_df['Allocation'] = stock_df['Allocation'].div(100)"
   ]
  },
  {
   "cell_type": "code",
   "execution_count": null,
   "metadata": {},
   "outputs": [],
   "source": [
    "stock_df['dollar'] = stock_df.Allocation * etf_amount\n"
   ]
  },
  {
   "cell_type": "code",
   "execution_count": null,
   "metadata": {},
   "outputs": [],
   "source": [
    "stock_df.head()"
   ]
  },
  {
   "cell_type": "code",
   "execution_count": null,
   "metadata": {},
   "outputs": [],
   "source": [
    "#Search user input through various stocks\n",
    "\n",
    "search_stock = stock_df.loc[stock_df['Ticker'] == stocks_of_interest]\n",
    "search_stock"
   ]
  },
  {
   "cell_type": "code",
   "execution_count": null,
   "metadata": {},
   "outputs": [],
   "source": [
    "stock_search_price = prev_close['Previous Close'].astype(float)\n",
    "\n",
    "stock_search_price"
   ]
  },
  {
   "cell_type": "code",
   "execution_count": null,
   "metadata": {},
   "outputs": [],
   "source": [
    "etf_stock_price = search_stock['dollar']"
   ]
  },
  {
   "cell_type": "markdown",
   "metadata": {},
   "source": [
    "# Craete output"
   ]
  },
  {
   "cell_type": "code",
   "execution_count": null,
   "metadata": {},
   "outputs": [],
   "source": [
    "user_stock = etf_stock_price / stock_search_price"
   ]
  },
  {
   "cell_type": "code",
   "execution_count": null,
   "metadata": {},
   "outputs": [],
   "source": [
    "user_stock"
   ]
  },
  {
   "cell_type": "markdown",
   "metadata": {},
   "source": [
    "# TESTING"
   ]
  },
  {
   "cell_type": "code",
   "execution_count": 19,
   "metadata": {},
   "outputs": [
    {
     "data": {
      "text/plain": [
       "[['Open', '-', 'Volume', '-'],\n",
       " ['Day Lo', '-', 'Day Hi', '-'],\n",
       " ['\\nCheapest\\n', 'BKLC', '0.00%', '\\n$79.2\\xa0M\\n', '\\n12,784\\n', ''],\n",
       " ['\\nLargest (AUM)\\n', 'SPY', '0.09%', '\\n$294.8\\xa0B\\n', '\\n71 M\\n', '3.79%'],\n",
       " ['\\nMost Liquid (Volume)\\n',\n",
       "  'SPY',\n",
       "  '0.09%',\n",
       "  '\\n$294.8\\xa0B\\n',\n",
       "  '\\n71 M\\n',\n",
       "  '3.79%'],\n",
       " ['\\nTop YTD Performer\\n',\n",
       "  'ARKW',\n",
       "  '0.76%',\n",
       "  '\\n$2.3\\xa0B\\n',\n",
       "  '\\n744,814\\n',\n",
       "  '79.09%'],\n",
       " ['AAPL', 'Apple Inc', '13.07%'],\n",
       " ['MSFT', 'Microsoft Corp', '10.72%'],\n",
       " ['AMZN', 'Amazon.com Inc', '10.41%'],\n",
       " ['FB', 'Facebook Inc', '4.29%'],\n",
       " ['TSLA', 'Tesla Inc', '3.69%'],\n",
       " ['GOOGL', 'Alphabet Inc', '3.52%'],\n",
       " ['GOOG', 'Alphabet Inc', '3.47%'],\n",
       " ['NVDA', 'NVIDIA Corp', '2.70%'],\n",
       " ['ADBE', 'Adobe Inc', '2.03%'],\n",
       " ['INTC', 'Intel Corp', '1.90%'],\n",
       " ['PYPL', 'PayPal Holdings Inc', '1.86%'],\n",
       " ['NFLX', 'Netflix Inc', '1.86%'],\n",
       " ['CMCSA', 'Comcast Corp', '1.86%'],\n",
       " ['PEP', 'PepsiCo Inc', '1.64%']]"
      ]
     },
     "execution_count": 19,
     "metadata": {},
     "output_type": "execute_result"
    }
   ],
   "source": [
    "data[:20]"
   ]
  },
  {
   "cell_type": "code",
   "execution_count": 32,
   "metadata": {},
   "outputs": [],
   "source": [
    "def get_stock(item, stonk):\n",
    "    if item[0] == stonk:\n",
    "        return item"
   ]
  },
  {
   "cell_type": "code",
   "execution_count": null,
   "metadata": {},
   "outputs": [],
   "source": []
  },
  {
   "cell_type": "code",
   "execution_count": 39,
   "metadata": {},
   "outputs": [],
   "source": [
    "for index, item in enumerate(data):\n",
    "    my_answer = get_stock(item, stocks_of_interest)\n",
    "    if my_answer != None:\n",
    "        good_answer = my_answer"
   ]
  },
  {
   "cell_type": "code",
   "execution_count": 40,
   "metadata": {},
   "outputs": [],
   "source": [
    "# (lambda x: x[:-1]"
   ]
  },
  {
   "cell_type": "code",
   "execution_count": 41,
   "metadata": {},
   "outputs": [
    {
     "data": {
      "text/plain": [
       "'13.07%'"
      ]
     },
     "execution_count": 41,
     "metadata": {},
     "output_type": "execute_result"
    }
   ],
   "source": [
    "good_answer = good_answer[-1]\n",
    "good_answer"
   ]
  },
  {
   "cell_type": "code",
   "execution_count": 42,
   "metadata": {},
   "outputs": [
    {
     "data": {
      "text/plain": [
       "'13.07'"
      ]
     },
     "execution_count": 42,
     "metadata": {},
     "output_type": "execute_result"
    }
   ],
   "source": [
    "good_answer[:-1]"
   ]
  },
  {
   "cell_type": "code",
   "execution_count": null,
   "metadata": {},
   "outputs": [],
   "source": []
  }
 ],
 "metadata": {
  "kernelspec": {
   "display_name": "Python 3",
   "language": "python",
   "name": "python3"
  },
  "language_info": {
   "codemirror_mode": {
    "name": "ipython",
    "version": 3
   },
   "file_extension": ".py",
   "mimetype": "text/x-python",
   "name": "python",
   "nbconvert_exporter": "python",
   "pygments_lexer": "ipython3",
   "version": "3.8.3"
  }
 },
 "nbformat": 4,
 "nbformat_minor": 4
}
